{
  "nbformat": 4,
  "nbformat_minor": 0,
  "metadata": {
    "accelerator": "GPU",
    "colab": {
      "name": "Fashion Mnist",
      "provenance": [],
      "collapsed_sections": [],
      "toc_visible": true
    },
    "kernelspec": {
      "display_name": "Python 3",
      "name": "python3"
    },
    "language_info": {
      "name": "python"
    }
  },
  "cells": [
    {
      "cell_type": "markdown",
      "metadata": {
        "id": "QL5_gH09sgTc"
      },
      "source": [
        "## **Fashion MNIST**"
      ]
    },
    {
      "cell_type": "code",
      "metadata": {
        "colab": {
          "base_uri": "https://localhost:8080/"
        },
        "id": "-1N33VF7sYQM",
        "outputId": "d95a4143-e673-4454-bd2f-fa66af6cdc4b"
      },
      "source": [
        "!pip install tensorflow"
      ],
      "execution_count": null,
      "outputs": [
        {
          "output_type": "stream",
          "name": "stdout",
          "text": [
            "Requirement already satisfied: tensorflow in /usr/local/lib/python3.7/dist-packages (2.7.0)\n",
            "Requirement already satisfied: numpy>=1.14.5 in /usr/local/lib/python3.7/dist-packages (from tensorflow) (1.19.5)\n",
            "Requirement already satisfied: wheel<1.0,>=0.32.0 in /usr/local/lib/python3.7/dist-packages (from tensorflow) (0.37.0)\n",
            "Requirement already satisfied: gast<0.5.0,>=0.2.1 in /usr/local/lib/python3.7/dist-packages (from tensorflow) (0.4.0)\n",
            "Requirement already satisfied: astunparse>=1.6.0 in /usr/local/lib/python3.7/dist-packages (from tensorflow) (1.6.3)\n",
            "Requirement already satisfied: absl-py>=0.4.0 in /usr/local/lib/python3.7/dist-packages (from tensorflow) (0.12.0)\n",
            "Requirement already satisfied: grpcio<2.0,>=1.24.3 in /usr/local/lib/python3.7/dist-packages (from tensorflow) (1.42.0)\n",
            "Requirement already satisfied: wrapt>=1.11.0 in /usr/local/lib/python3.7/dist-packages (from tensorflow) (1.13.3)\n",
            "Requirement already satisfied: tensorflow-io-gcs-filesystem>=0.21.0 in /usr/local/lib/python3.7/dist-packages (from tensorflow) (0.22.0)\n",
            "Requirement already satisfied: keras<2.8,>=2.7.0rc0 in /usr/local/lib/python3.7/dist-packages (from tensorflow) (2.7.0)\n",
            "Requirement already satisfied: keras-preprocessing>=1.1.1 in /usr/local/lib/python3.7/dist-packages (from tensorflow) (1.1.2)\n",
            "Requirement already satisfied: flatbuffers<3.0,>=1.12 in /usr/local/lib/python3.7/dist-packages (from tensorflow) (2.0)\n",
            "Requirement already satisfied: opt-einsum>=2.3.2 in /usr/local/lib/python3.7/dist-packages (from tensorflow) (3.3.0)\n",
            "Requirement already satisfied: protobuf>=3.9.2 in /usr/local/lib/python3.7/dist-packages (from tensorflow) (3.17.3)\n",
            "Requirement already satisfied: tensorflow-estimator<2.8,~=2.7.0rc0 in /usr/local/lib/python3.7/dist-packages (from tensorflow) (2.7.0)\n",
            "Requirement already satisfied: libclang>=9.0.1 in /usr/local/lib/python3.7/dist-packages (from tensorflow) (12.0.0)\n",
            "Requirement already satisfied: six>=1.12.0 in /usr/local/lib/python3.7/dist-packages (from tensorflow) (1.15.0)\n",
            "Requirement already satisfied: termcolor>=1.1.0 in /usr/local/lib/python3.7/dist-packages (from tensorflow) (1.1.0)\n",
            "Requirement already satisfied: typing-extensions>=3.6.6 in /usr/local/lib/python3.7/dist-packages (from tensorflow) (3.10.0.2)\n",
            "Requirement already satisfied: h5py>=2.9.0 in /usr/local/lib/python3.7/dist-packages (from tensorflow) (3.1.0)\n",
            "Requirement already satisfied: google-pasta>=0.1.1 in /usr/local/lib/python3.7/dist-packages (from tensorflow) (0.2.0)\n",
            "Requirement already satisfied: tensorboard~=2.6 in /usr/local/lib/python3.7/dist-packages (from tensorflow) (2.7.0)\n",
            "Requirement already satisfied: cached-property in /usr/local/lib/python3.7/dist-packages (from h5py>=2.9.0->tensorflow) (1.5.2)\n",
            "Requirement already satisfied: setuptools>=41.0.0 in /usr/local/lib/python3.7/dist-packages (from tensorboard~=2.6->tensorflow) (57.4.0)\n",
            "Requirement already satisfied: markdown>=2.6.8 in /usr/local/lib/python3.7/dist-packages (from tensorboard~=2.6->tensorflow) (3.3.6)\n",
            "Requirement already satisfied: requests<3,>=2.21.0 in /usr/local/lib/python3.7/dist-packages (from tensorboard~=2.6->tensorflow) (2.23.0)\n",
            "Requirement already satisfied: tensorboard-data-server<0.7.0,>=0.6.0 in /usr/local/lib/python3.7/dist-packages (from tensorboard~=2.6->tensorflow) (0.6.1)\n",
            "Requirement already satisfied: werkzeug>=0.11.15 in /usr/local/lib/python3.7/dist-packages (from tensorboard~=2.6->tensorflow) (1.0.1)\n",
            "Requirement already satisfied: google-auth<3,>=1.6.3 in /usr/local/lib/python3.7/dist-packages (from tensorboard~=2.6->tensorflow) (1.35.0)\n",
            "Requirement already satisfied: tensorboard-plugin-wit>=1.6.0 in /usr/local/lib/python3.7/dist-packages (from tensorboard~=2.6->tensorflow) (1.8.0)\n",
            "Requirement already satisfied: google-auth-oauthlib<0.5,>=0.4.1 in /usr/local/lib/python3.7/dist-packages (from tensorboard~=2.6->tensorflow) (0.4.6)\n",
            "Requirement already satisfied: cachetools<5.0,>=2.0.0 in /usr/local/lib/python3.7/dist-packages (from google-auth<3,>=1.6.3->tensorboard~=2.6->tensorflow) (4.2.4)\n",
            "Requirement already satisfied: rsa<5,>=3.1.4 in /usr/local/lib/python3.7/dist-packages (from google-auth<3,>=1.6.3->tensorboard~=2.6->tensorflow) (4.8)\n",
            "Requirement already satisfied: pyasn1-modules>=0.2.1 in /usr/local/lib/python3.7/dist-packages (from google-auth<3,>=1.6.3->tensorboard~=2.6->tensorflow) (0.2.8)\n",
            "Requirement already satisfied: requests-oauthlib>=0.7.0 in /usr/local/lib/python3.7/dist-packages (from google-auth-oauthlib<0.5,>=0.4.1->tensorboard~=2.6->tensorflow) (1.3.0)\n",
            "Requirement already satisfied: importlib-metadata>=4.4 in /usr/local/lib/python3.7/dist-packages (from markdown>=2.6.8->tensorboard~=2.6->tensorflow) (4.8.2)\n",
            "Requirement already satisfied: zipp>=0.5 in /usr/local/lib/python3.7/dist-packages (from importlib-metadata>=4.4->markdown>=2.6.8->tensorboard~=2.6->tensorflow) (3.6.0)\n",
            "Requirement already satisfied: pyasn1<0.5.0,>=0.4.6 in /usr/local/lib/python3.7/dist-packages (from pyasn1-modules>=0.2.1->google-auth<3,>=1.6.3->tensorboard~=2.6->tensorflow) (0.4.8)\n",
            "Requirement already satisfied: urllib3!=1.25.0,!=1.25.1,<1.26,>=1.21.1 in /usr/local/lib/python3.7/dist-packages (from requests<3,>=2.21.0->tensorboard~=2.6->tensorflow) (1.24.3)\n",
            "Requirement already satisfied: certifi>=2017.4.17 in /usr/local/lib/python3.7/dist-packages (from requests<3,>=2.21.0->tensorboard~=2.6->tensorflow) (2021.10.8)\n",
            "Requirement already satisfied: chardet<4,>=3.0.2 in /usr/local/lib/python3.7/dist-packages (from requests<3,>=2.21.0->tensorboard~=2.6->tensorflow) (3.0.4)\n",
            "Requirement already satisfied: idna<3,>=2.5 in /usr/local/lib/python3.7/dist-packages (from requests<3,>=2.21.0->tensorboard~=2.6->tensorflow) (2.10)\n",
            "Requirement already satisfied: oauthlib>=3.0.0 in /usr/local/lib/python3.7/dist-packages (from requests-oauthlib>=0.7.0->google-auth-oauthlib<0.5,>=0.4.1->tensorboard~=2.6->tensorflow) (3.1.1)\n"
          ]
        }
      ]
    },
    {
      "cell_type": "code",
      "metadata": {
        "colab": {
          "base_uri": "https://localhost:8080/"
        },
        "id": "MW5SD8BlHSo5",
        "outputId": "8d23dbd2-cbf2-488b-e1fc-972e1e599aa5"
      },
      "source": [
        "import tensorflow as tf\n",
        "from tensorflow import keras\n",
        "import matplotlib.pyplot as plt\n",
        "import seaborn as sns\n",
        "from tensorflow.keras.layers import Dropout\n",
        "from tensorflow.keras.layers import Dense\n",
        "print(tf.keras.__version__)"
      ],
      "execution_count": null,
      "outputs": [
        {
          "output_type": "stream",
          "name": "stdout",
          "text": [
            "2.7.0\n"
          ]
        }
      ]
    },
    {
      "cell_type": "markdown",
      "metadata": {
        "id": "WdCbs_XF0XkS"
      },
      "source": [
        "**Single Layerd Perceptron (MNIST Handwritten Digit Dataset)**\n"
      ]
    },
    {
      "cell_type": "code",
      "metadata": {
        "colab": {
          "base_uri": "https://localhost:8080/",
          "height": 1000
        },
        "id": "OzR5ubrP1UdH",
        "outputId": "3e8f86d9-9793-4c2c-ae91-b78c1cbe0f15"
      },
      "source": [
        "# Loading MNIST dataset\n",
        "mnist = keras.datasets.mnist \n",
        "(X_train, Y_train), (X_test, Y_test) = mnist.load_data()\n",
        "\n",
        "\n",
        "# X_train is 60000 rows of 28x28 values; we reshape it to # 60000 x 784. \n",
        "RESHAPED = 784\n",
        "X_train = X_train.reshape(60000, RESHAPED) \n",
        "X_test = X_test.reshape(10000, RESHAPED) \n",
        "\n",
        "# Data is converted into float32 to use 32-bit precision # when training a neural network \n",
        "X_train = X_train.astype('float32')\n",
        "X_test = X_test.astype('float32') \n",
        "\n",
        "# Normalizing the input to be within the range [0,1]\n",
        "X_train /= 255\n",
        "#intensity of each pixel is divided by 255, the maximum intensity value\n",
        "X_test /= 255\n",
        "print(X_train.shape[0], 'train samples') \n",
        "print(X_test.shape[0], 'test samples') \n",
        "\n",
        "# One-hot representation of the labels.\n",
        "Y_train = tf.keras.utils.to_categorical(Y_train, 10) \n",
        "Y_test = tf.keras.utils.to_categorical(Y_test, 10)\n",
        "\n",
        "import tensorflow as tf\n",
        "from tensorflow.keras.layers import Dense\n",
        "from tensorflow.keras import Sequential\n",
        "model_0 = Sequential()\n",
        "# Now the model will take as input arrays of shape (*, 784)# and output arrays of shape (*, 10)\n",
        "model_0.add(Dense(10,input_shape=(784,),name='dense_layer', activation='softmax')) \n",
        "\n",
        "# Compiling the model.\n",
        "model_0.compile(optimizer='SGD', loss='categorical_crossentropy', metrics=['accuracy'])\n",
        "\n",
        "# Training the model. \n",
        "training = model_0.fit(X_train, Y_train, batch_size=64, epochs=70, validation_split=0.2) \n",
        "\n",
        "import matplotlib.pyplot as plt\n",
        "%matplotlib inline\n",
        "# list all data in training\n",
        "print(training.history.keys())\n",
        "# summarize training for accuracy\n",
        "plt.plot(training.history['accuracy'])\n",
        "plt.plot(training.history['val_accuracy'])\n",
        "plt.title('Model Accuracy of Handwritten digit dataset')\n",
        "plt.ylabel('accuracy')\n",
        "plt.xlabel('epoch')\n",
        "plt.legend(['train', 'test'], loc='upper left')\n",
        "plt.show()\n",
        "# summarize traning for loss\n",
        "plt.plot(training.history['loss'])\n",
        "plt.plot(training.history['val_loss'])\n",
        "plt.title('Model Loss of Handwritten digit dataset')\n",
        "plt.ylabel('loss')\n",
        "plt.xlabel('epoch')\n",
        "plt.legend(['train', 'test'], loc='upper left')\n",
        "plt.show()\n",
        "\n",
        "#evaluate the model\n",
        "test_loss, test_acc = model_0.evaluate(X_test, Y_test)\n",
        "print('Test accuracy:', test_acc)"
      ],
      "execution_count": null,
      "outputs": [
        {
          "output_type": "stream",
          "name": "stdout",
          "text": [
            "Downloading data from https://storage.googleapis.com/tensorflow/tf-keras-datasets/mnist.npz\n",
            "11493376/11490434 [==============================] - 0s 0us/step\n",
            "11501568/11490434 [==============================] - 0s 0us/step\n",
            "60000 train samples\n",
            "10000 test samples\n",
            "Epoch 1/70\n",
            "750/750 [==============================] - 5s 4ms/step - loss: 1.0892 - accuracy: 0.7487 - val_loss: 0.6590 - val_accuracy: 0.8571\n",
            "Epoch 2/70\n",
            "750/750 [==============================] - 3s 3ms/step - loss: 0.6097 - accuracy: 0.8544 - val_loss: 0.5110 - val_accuracy: 0.8767\n",
            "Epoch 3/70\n",
            "750/750 [==============================] - 3s 3ms/step - loss: 0.5143 - accuracy: 0.8696 - val_loss: 0.4527 - val_accuracy: 0.8867\n",
            "Epoch 4/70\n",
            "750/750 [==============================] - 2s 3ms/step - loss: 0.4677 - accuracy: 0.8782 - val_loss: 0.4198 - val_accuracy: 0.8941\n",
            "Epoch 5/70\n",
            "750/750 [==============================] - 2s 3ms/step - loss: 0.4390 - accuracy: 0.8840 - val_loss: 0.3985 - val_accuracy: 0.8963\n",
            "Epoch 6/70\n",
            "750/750 [==============================] - 3s 4ms/step - loss: 0.4190 - accuracy: 0.8879 - val_loss: 0.3832 - val_accuracy: 0.8993\n",
            "Epoch 7/70\n",
            "750/750 [==============================] - 3s 3ms/step - loss: 0.4040 - accuracy: 0.8917 - val_loss: 0.3722 - val_accuracy: 0.9007\n",
            "Epoch 8/70\n",
            "750/750 [==============================] - 3s 3ms/step - loss: 0.3923 - accuracy: 0.8934 - val_loss: 0.3627 - val_accuracy: 0.9028\n",
            "Epoch 9/70\n",
            "750/750 [==============================] - 2s 3ms/step - loss: 0.3828 - accuracy: 0.8954 - val_loss: 0.3550 - val_accuracy: 0.9045\n",
            "Epoch 10/70\n",
            "750/750 [==============================] - 2s 3ms/step - loss: 0.3748 - accuracy: 0.8972 - val_loss: 0.3491 - val_accuracy: 0.9057\n",
            "Epoch 11/70\n",
            "750/750 [==============================] - 3s 4ms/step - loss: 0.3681 - accuracy: 0.8988 - val_loss: 0.3433 - val_accuracy: 0.9073\n",
            "Epoch 12/70\n",
            "750/750 [==============================] - 2s 3ms/step - loss: 0.3622 - accuracy: 0.9003 - val_loss: 0.3390 - val_accuracy: 0.9087\n",
            "Epoch 13/70\n",
            "750/750 [==============================] - 2s 3ms/step - loss: 0.3571 - accuracy: 0.9013 - val_loss: 0.3347 - val_accuracy: 0.9092\n",
            "Epoch 14/70\n",
            "750/750 [==============================] - 3s 3ms/step - loss: 0.3525 - accuracy: 0.9021 - val_loss: 0.3312 - val_accuracy: 0.9105\n",
            "Epoch 15/70\n",
            "750/750 [==============================] - 3s 4ms/step - loss: 0.3485 - accuracy: 0.9030 - val_loss: 0.3278 - val_accuracy: 0.9116\n",
            "Epoch 16/70\n",
            "750/750 [==============================] - 3s 3ms/step - loss: 0.3448 - accuracy: 0.9043 - val_loss: 0.3252 - val_accuracy: 0.9126\n",
            "Epoch 17/70\n",
            "750/750 [==============================] - 3s 4ms/step - loss: 0.3414 - accuracy: 0.9049 - val_loss: 0.3229 - val_accuracy: 0.9123\n",
            "Epoch 18/70\n",
            "750/750 [==============================] - 2s 3ms/step - loss: 0.3384 - accuracy: 0.9061 - val_loss: 0.3204 - val_accuracy: 0.9131\n",
            "Epoch 19/70\n",
            "750/750 [==============================] - 2s 3ms/step - loss: 0.3356 - accuracy: 0.9069 - val_loss: 0.3180 - val_accuracy: 0.9137\n",
            "Epoch 20/70\n",
            "750/750 [==============================] - 3s 4ms/step - loss: 0.3330 - accuracy: 0.9075 - val_loss: 0.3161 - val_accuracy: 0.9133\n",
            "Epoch 21/70\n",
            "750/750 [==============================] - 3s 4ms/step - loss: 0.3307 - accuracy: 0.9083 - val_loss: 0.3142 - val_accuracy: 0.9147\n",
            "Epoch 22/70\n",
            "750/750 [==============================] - 3s 4ms/step - loss: 0.3284 - accuracy: 0.9088 - val_loss: 0.3124 - val_accuracy: 0.9144\n",
            "Epoch 23/70\n",
            "750/750 [==============================] - 3s 4ms/step - loss: 0.3263 - accuracy: 0.9093 - val_loss: 0.3108 - val_accuracy: 0.9144\n",
            "Epoch 24/70\n",
            "750/750 [==============================] - 3s 3ms/step - loss: 0.3243 - accuracy: 0.9097 - val_loss: 0.3093 - val_accuracy: 0.9146\n",
            "Epoch 25/70\n",
            "750/750 [==============================] - 3s 3ms/step - loss: 0.3225 - accuracy: 0.9100 - val_loss: 0.3079 - val_accuracy: 0.9149\n",
            "Epoch 26/70\n",
            "750/750 [==============================] - 3s 3ms/step - loss: 0.3208 - accuracy: 0.9108 - val_loss: 0.3065 - val_accuracy: 0.9158\n",
            "Epoch 27/70\n",
            "750/750 [==============================] - 3s 3ms/step - loss: 0.3191 - accuracy: 0.9114 - val_loss: 0.3054 - val_accuracy: 0.9154\n",
            "Epoch 28/70\n",
            "750/750 [==============================] - 3s 4ms/step - loss: 0.3176 - accuracy: 0.9118 - val_loss: 0.3043 - val_accuracy: 0.9164\n",
            "Epoch 29/70\n",
            "750/750 [==============================] - 3s 3ms/step - loss: 0.3162 - accuracy: 0.9121 - val_loss: 0.3030 - val_accuracy: 0.9162\n",
            "Epoch 30/70\n",
            "750/750 [==============================] - 3s 4ms/step - loss: 0.3148 - accuracy: 0.9128 - val_loss: 0.3020 - val_accuracy: 0.9166\n",
            "Epoch 31/70\n",
            "750/750 [==============================] - 3s 3ms/step - loss: 0.3133 - accuracy: 0.9132 - val_loss: 0.3009 - val_accuracy: 0.9170\n",
            "Epoch 32/70\n",
            "750/750 [==============================] - 3s 4ms/step - loss: 0.3122 - accuracy: 0.9131 - val_loss: 0.2999 - val_accuracy: 0.9173\n",
            "Epoch 33/70\n",
            "750/750 [==============================] - 3s 4ms/step - loss: 0.3110 - accuracy: 0.9135 - val_loss: 0.2993 - val_accuracy: 0.9176\n",
            "Epoch 34/70\n",
            "750/750 [==============================] - 2s 3ms/step - loss: 0.3098 - accuracy: 0.9143 - val_loss: 0.2984 - val_accuracy: 0.9179\n",
            "Epoch 35/70\n",
            "750/750 [==============================] - 3s 4ms/step - loss: 0.3087 - accuracy: 0.9143 - val_loss: 0.2975 - val_accuracy: 0.9184\n",
            "Epoch 36/70\n",
            "750/750 [==============================] - 4s 5ms/step - loss: 0.3076 - accuracy: 0.9143 - val_loss: 0.2966 - val_accuracy: 0.9185\n",
            "Epoch 37/70\n",
            "750/750 [==============================] - 3s 4ms/step - loss: 0.3066 - accuracy: 0.9149 - val_loss: 0.2960 - val_accuracy: 0.9184\n",
            "Epoch 38/70\n",
            "750/750 [==============================] - 4s 5ms/step - loss: 0.3057 - accuracy: 0.9149 - val_loss: 0.2952 - val_accuracy: 0.9189\n",
            "Epoch 39/70\n",
            "750/750 [==============================] - 4s 6ms/step - loss: 0.3047 - accuracy: 0.9156 - val_loss: 0.2945 - val_accuracy: 0.9187\n",
            "Epoch 40/70\n",
            "750/750 [==============================] - 4s 6ms/step - loss: 0.3037 - accuracy: 0.9160 - val_loss: 0.2939 - val_accuracy: 0.9187\n",
            "Epoch 41/70\n",
            "750/750 [==============================] - 3s 4ms/step - loss: 0.3029 - accuracy: 0.9158 - val_loss: 0.2933 - val_accuracy: 0.9191\n",
            "Epoch 42/70\n",
            "750/750 [==============================] - 3s 4ms/step - loss: 0.3020 - accuracy: 0.9163 - val_loss: 0.2926 - val_accuracy: 0.9187\n",
            "Epoch 43/70\n",
            "750/750 [==============================] - 3s 4ms/step - loss: 0.3012 - accuracy: 0.9162 - val_loss: 0.2921 - val_accuracy: 0.9194\n",
            "Epoch 44/70\n",
            "750/750 [==============================] - 3s 4ms/step - loss: 0.3004 - accuracy: 0.9163 - val_loss: 0.2914 - val_accuracy: 0.9196\n",
            "Epoch 45/70\n",
            "750/750 [==============================] - 2s 3ms/step - loss: 0.2997 - accuracy: 0.9170 - val_loss: 0.2910 - val_accuracy: 0.9199\n",
            "Epoch 46/70\n",
            "750/750 [==============================] - 2s 3ms/step - loss: 0.2989 - accuracy: 0.9170 - val_loss: 0.2905 - val_accuracy: 0.9197\n",
            "Epoch 47/70\n",
            "750/750 [==============================] - 2s 3ms/step - loss: 0.2982 - accuracy: 0.9173 - val_loss: 0.2899 - val_accuracy: 0.9198\n",
            "Epoch 48/70\n",
            "750/750 [==============================] - 2s 3ms/step - loss: 0.2975 - accuracy: 0.9172 - val_loss: 0.2893 - val_accuracy: 0.9200\n",
            "Epoch 49/70\n",
            "750/750 [==============================] - 2s 3ms/step - loss: 0.2968 - accuracy: 0.9174 - val_loss: 0.2889 - val_accuracy: 0.9200\n",
            "Epoch 50/70\n",
            "750/750 [==============================] - 3s 4ms/step - loss: 0.2962 - accuracy: 0.9176 - val_loss: 0.2883 - val_accuracy: 0.9207\n",
            "Epoch 51/70\n",
            "750/750 [==============================] - 3s 4ms/step - loss: 0.2956 - accuracy: 0.9181 - val_loss: 0.2879 - val_accuracy: 0.9208\n",
            "Epoch 52/70\n",
            "750/750 [==============================] - 3s 3ms/step - loss: 0.2949 - accuracy: 0.9181 - val_loss: 0.2876 - val_accuracy: 0.9208\n",
            "Epoch 53/70\n",
            "750/750 [==============================] - 3s 4ms/step - loss: 0.2943 - accuracy: 0.9180 - val_loss: 0.2873 - val_accuracy: 0.9205\n",
            "Epoch 54/70\n",
            "750/750 [==============================] - 3s 4ms/step - loss: 0.2938 - accuracy: 0.9185 - val_loss: 0.2868 - val_accuracy: 0.9209\n",
            "Epoch 55/70\n",
            "750/750 [==============================] - 3s 4ms/step - loss: 0.2932 - accuracy: 0.9186 - val_loss: 0.2864 - val_accuracy: 0.9212\n",
            "Epoch 56/70\n",
            "750/750 [==============================] - 3s 3ms/step - loss: 0.2926 - accuracy: 0.9185 - val_loss: 0.2860 - val_accuracy: 0.9212\n",
            "Epoch 57/70\n",
            "750/750 [==============================] - 2s 3ms/step - loss: 0.2921 - accuracy: 0.9190 - val_loss: 0.2857 - val_accuracy: 0.9212\n",
            "Epoch 58/70\n",
            "750/750 [==============================] - 3s 4ms/step - loss: 0.2916 - accuracy: 0.9188 - val_loss: 0.2853 - val_accuracy: 0.9210\n",
            "Epoch 59/70\n",
            "750/750 [==============================] - 2s 3ms/step - loss: 0.2910 - accuracy: 0.9192 - val_loss: 0.2850 - val_accuracy: 0.9215\n",
            "Epoch 60/70\n",
            "750/750 [==============================] - 3s 4ms/step - loss: 0.2905 - accuracy: 0.9193 - val_loss: 0.2848 - val_accuracy: 0.9216\n",
            "Epoch 61/70\n",
            "750/750 [==============================] - 2s 3ms/step - loss: 0.2900 - accuracy: 0.9189 - val_loss: 0.2842 - val_accuracy: 0.9218\n",
            "Epoch 62/70\n",
            "750/750 [==============================] - 3s 4ms/step - loss: 0.2895 - accuracy: 0.9198 - val_loss: 0.2840 - val_accuracy: 0.9212\n",
            "Epoch 63/70\n",
            "750/750 [==============================] - 3s 4ms/step - loss: 0.2891 - accuracy: 0.9196 - val_loss: 0.2837 - val_accuracy: 0.9216\n",
            "Epoch 64/70\n",
            "750/750 [==============================] - 3s 4ms/step - loss: 0.2886 - accuracy: 0.9196 - val_loss: 0.2834 - val_accuracy: 0.9218\n",
            "Epoch 65/70\n",
            "750/750 [==============================] - 2s 3ms/step - loss: 0.2882 - accuracy: 0.9196 - val_loss: 0.2831 - val_accuracy: 0.9217\n",
            "Epoch 66/70\n",
            "750/750 [==============================] - 3s 4ms/step - loss: 0.2878 - accuracy: 0.9196 - val_loss: 0.2828 - val_accuracy: 0.9215\n",
            "Epoch 67/70\n",
            "750/750 [==============================] - 3s 3ms/step - loss: 0.2873 - accuracy: 0.9200 - val_loss: 0.2826 - val_accuracy: 0.9221\n",
            "Epoch 68/70\n",
            "750/750 [==============================] - 2s 3ms/step - loss: 0.2869 - accuracy: 0.9198 - val_loss: 0.2822 - val_accuracy: 0.9216\n",
            "Epoch 69/70\n",
            "750/750 [==============================] - 3s 4ms/step - loss: 0.2865 - accuracy: 0.9201 - val_loss: 0.2819 - val_accuracy: 0.9219\n",
            "Epoch 70/70\n",
            "750/750 [==============================] - 2s 3ms/step - loss: 0.2861 - accuracy: 0.9202 - val_loss: 0.2817 - val_accuracy: 0.9221\n",
            "dict_keys(['loss', 'accuracy', 'val_loss', 'val_accuracy'])\n"
          ]
        },
        {
          "output_type": "display_data",
          "data": {
            "image/png": "[encoded data removed]",
            "text/plain": [
              "<Figure size 432x288 with 1 Axes>"
            ]
          },
          "metadata": {
            "needs_background": "light"
          }
        },
        {
          "output_type": "display_data",
          "data": {
            "image/png": "[encoded data removed]",
            "text/plain": [
              "<Figure size 432x288 with 1 Axes>"
            ]
          },
          "metadata": {
            "needs_background": "light"
          }
        },
        {
          "output_type": "stream",
          "name": "stdout",
          "text": [
            "313/313 [==============================] - 1s 3ms/step - loss: 0.2817 - accuracy: 0.9216\n",
            "Test accuracy: 0.9215999841690063\n"
          ]
        }
      ]
    },
    {
      "cell_type": "markdown",
      "metadata": {
        "id": "z9jRjIqcqQJF"
      },
      "source": [
        "# **Single Layered Perceptron** **(MNIST Fashion Dataset)**"
      ]
    },
    {
      "cell_type": "markdown",
      "metadata": {
        "id": "T95_L86oHXyg"
      },
      "source": [
        "Loading the data"
      ]
    },
    {
      "cell_type": "code",
      "metadata": {
        "id": "nhFYDz0VHaSP",
        "colab": {
          "base_uri": "https://localhost:8080/"
        },
        "outputId": "023af3dd-a84c-4156-db42-6ec36ba26f23"
      },
      "source": [
        "fashion_mnist = keras.datasets.fashion_mnist\n",
        "(X_train,y_train),(X_test,y_test)= fashion_mnist.load_data()\n",
        "class_names = ['T-Shirt/top', 'Trouser', 'Pullover', 'Dress', 'Coat', 'Sandal', 'Shirt', 'Sneaker', 'Bag', 'Ankle Boot']"
      ],
      "execution_count": null,
      "outputs": [
        {
          "output_type": "stream",
          "name": "stdout",
          "text": [
            "Downloading data from https://storage.googleapis.com/tensorflow/tf-keras-datasets/train-labels-idx1-ubyte.gz\n",
            "32768/29515 [=================================] - 0s 0us/step\n",
            "40960/29515 [=========================================] - 0s 0us/step\n",
            "Downloading data from https://storage.googleapis.com/tensorflow/tf-keras-datasets/train-images-idx3-ubyte.gz\n",
            "26427392/26421880 [==============================] - 1s 0us/step\n",
            "26435584/26421880 [==============================] - 1s 0us/step\n",
            "Downloading data from https://storage.googleapis.com/tensorflow/tf-keras-datasets/t10k-labels-idx1-ubyte.gz\n",
            "16384/5148 [===============================================================================================] - 0s 0us/step\n",
            "Downloading data from https://storage.googleapis.com/tensorflow/tf-keras-datasets/t10k-images-idx3-ubyte.gz\n",
            "4423680/4422102 [==============================] - 0s 0us/step\n",
            "4431872/4422102 [==============================] - 0s 0us/step\n"
          ]
        }
      ]
    },
    {
      "cell_type": "markdown",
      "metadata": {
        "id": "hSblE4qvHrbo"
      },
      "source": [
        "Checking the shape"
      ]
    },
    {
      "cell_type": "code",
      "metadata": {
        "colab": {
          "base_uri": "https://localhost:8080/"
        },
        "id": "c5JVP-gCHtso",
        "outputId": "590fd0ec-5742-43f9-f200-8e487dfb1f33"
      },
      "source": [
        "print(X_train.shape)\n",
        "print(X_test.shape)\n",
        "print(y_train.shape)\n",
        "print(y_test.shape)"
      ],
      "execution_count": null,
      "outputs": [
        {
          "output_type": "stream",
          "name": "stdout",
          "text": [
            "(60000, 28, 28)\n",
            "(10000, 28, 28)\n",
            "(60000,)\n",
            "(10000,)\n"
          ]
        }
      ]
    },
    {
      "cell_type": "markdown",
      "metadata": {
        "id": "VNNa9gRQH0Qh"
      },
      "source": [
        "Visualizing some of the images"
      ]
    },
    {
      "cell_type": "code",
      "metadata": {
        "colab": {
          "base_uri": "https://localhost:8080/",
          "height": 513
        },
        "id": "6Jy7dfGfH7fc",
        "outputId": "dc32157f-481b-43a7-cd38-e3c512125be4"
      },
      "source": [
        "plt.figure()\n",
        "plt.imshow(X_train[2000],cmap='hot')\n",
        "plt.colorbar()\n",
        "plt.grid(False)\n",
        "plt.show()\n",
        "plt.figure()\n",
        "plt.imshow(X_train[3],cmap='hot')\n",
        "plt.colorbar()\n",
        "plt.grid(False)\n",
        "plt.show()"
      ],
      "execution_count": null,
      "outputs": [
        {
          "output_type": "display_data",
          "data": {
            "image/png": "[encoded data removed]",
            "text/plain": [
              "<Figure size 432x288 with 2 Axes>"
            ]
          },
          "metadata": {
            "needs_background": "light"
          }
        },
        {
          "output_type": "display_data",
          "data": {
            "image/png": "[encoded data removed]",
            "text/plain": [
              "<Figure size 432x288 with 2 Axes>"
            ]
          },
          "metadata": {
            "needs_background": "light"
          }
        }
      ]
    },
    {
      "cell_type": "markdown",
      "metadata": {
        "id": "pxTSaPkAIE7f"
      },
      "source": [
        "pre-processing the data"
      ]
    },
    {
      "cell_type": "code",
      "metadata": {
        "colab": {
          "base_uri": "https://localhost:8080/"
        },
        "id": "-UzTzBNWILvl",
        "outputId": "64852ac5-55af-4b16-e9aa-7ff40cca2a7e"
      },
      "source": [
        "# X_train is 60000 rows of 28x28 values; we reshape it to # 60000 x 784. \n",
        "RESHAPED = 784\n",
        "X_train = X_train.reshape(60000, RESHAPED) \n",
        "X_test = X_test.reshape(10000, RESHAPED) \n",
        "\n",
        "# Data is converted into float32 to use 32-bit precision # when training a neural network \n",
        "X_train = X_train.astype('float32')\n",
        "X_test = X_test.astype('float32') \n",
        "\n",
        "# Normalizing the input to be within the range [0,1]\n",
        "X_train /= 255\n",
        "#intensity of each pixel is divided by 255, the maximum intensity value\n",
        "X_test /= 255\n",
        "print(X_train.shape[0], 'train samples') \n",
        "print(X_test.shape[0], 'test samples') \n",
        "\n",
        "# One-hot representation of the labels.\n",
        "y_train = tf.keras.utils.to_categorical(y_train, 10) \n",
        "y_test = tf.keras.utils.to_categorical(y_test, 10)\n",
        "y_train.shape"
      ],
      "execution_count": null,
      "outputs": [
        {
          "output_type": "stream",
          "name": "stdout",
          "text": [
            "60000 train samples\n",
            "10000 test samples\n"
          ]
        },
        {
          "output_type": "execute_result",
          "data": {
            "text/plain": [
              "(60000, 10)"
            ]
          },
          "metadata": {},
          "execution_count": 5
        }
      ]
    },
    {
      "cell_type": "code",
      "metadata": {
        "id": "2TRkd59_sYcf"
      },
      "source": [
        "import tensorflow as tf\n",
        "from tensorflow.keras.layers import Dense\n",
        "from tensorflow.keras import Sequential\n",
        "model_0 = Sequential()\n",
        "model_0.add(Dense(10,input_shape=(784,),name='Dense_layer',activation='softmax'))\n"
      ],
      "execution_count": null,
      "outputs": []
    },
    {
      "cell_type": "code",
      "metadata": {
        "id": "42YBgikM5tqG"
      },
      "source": [
        "model_0.compile(optimizer='SGD', \n",
        "              loss='categorical_crossentropy',\n",
        "              metrics=['accuracy'])"
      ],
      "execution_count": null,
      "outputs": []
    },
    {
      "cell_type": "code",
      "metadata": {
        "colab": {
          "base_uri": "https://localhost:8080/"
        },
        "id": "o_9qgkWx5wMf",
        "outputId": "bb1f88ac-7ee7-4030-c9f2-38cb16926f74"
      },
      "source": [
        "# Training the model. \n",
        "training = model_0.fit(X_train, y_train, batch_size=100, epochs=70, validation_split=0.3) "
      ],
      "execution_count": null,
      "outputs": [
        {
          "output_type": "stream",
          "name": "stdout",
          "text": [
            "Epoch 1/70\n",
            "420/420 [==============================] - 4s 4ms/step - loss: 1.2190 - accuracy: 0.6182 - val_loss: 0.8902 - val_accuracy: 0.7129\n",
            "Epoch 2/70\n",
            "420/420 [==============================] - 1s 3ms/step - loss: 0.8111 - accuracy: 0.7376 - val_loss: 0.7501 - val_accuracy: 0.7596\n",
            "Epoch 3/70\n",
            "420/420 [==============================] - 1s 3ms/step - loss: 0.7162 - accuracy: 0.7707 - val_loss: 0.6862 - val_accuracy: 0.7799\n",
            "Epoch 4/70\n",
            "420/420 [==============================] - 1s 3ms/step - loss: 0.6654 - accuracy: 0.7867 - val_loss: 0.6477 - val_accuracy: 0.7912\n",
            "Epoch 5/70\n",
            "420/420 [==============================] - 1s 3ms/step - loss: 0.6320 - accuracy: 0.7970 - val_loss: 0.6212 - val_accuracy: 0.7999\n",
            "Epoch 6/70\n",
            "420/420 [==============================] - 1s 3ms/step - loss: 0.6079 - accuracy: 0.8037 - val_loss: 0.6011 - val_accuracy: 0.8043\n",
            "Epoch 7/70\n",
            "420/420 [==============================] - 1s 3ms/step - loss: 0.5892 - accuracy: 0.8096 - val_loss: 0.5846 - val_accuracy: 0.8089\n",
            "Epoch 8/70\n",
            "420/420 [==============================] - 1s 3ms/step - loss: 0.5745 - accuracy: 0.8136 - val_loss: 0.5721 - val_accuracy: 0.8136\n",
            "Epoch 9/70\n",
            "420/420 [==============================] - 1s 3ms/step - loss: 0.5619 - accuracy: 0.8178 - val_loss: 0.5611 - val_accuracy: 0.8152\n",
            "Epoch 10/70\n",
            "420/420 [==============================] - 1s 3ms/step - loss: 0.5518 - accuracy: 0.8203 - val_loss: 0.5528 - val_accuracy: 0.8187\n",
            "Epoch 11/70\n",
            "420/420 [==============================] - 1s 3ms/step - loss: 0.5428 - accuracy: 0.8220 - val_loss: 0.5444 - val_accuracy: 0.8214\n",
            "Epoch 12/70\n",
            "420/420 [==============================] - 1s 3ms/step - loss: 0.5350 - accuracy: 0.8245 - val_loss: 0.5377 - val_accuracy: 0.8221\n",
            "Epoch 13/70\n",
            "420/420 [==============================] - 1s 3ms/step - loss: 0.5281 - accuracy: 0.8265 - val_loss: 0.5316 - val_accuracy: 0.8233\n",
            "Epoch 14/70\n",
            "420/420 [==============================] - 1s 3ms/step - loss: 0.5220 - accuracy: 0.8273 - val_loss: 0.5257 - val_accuracy: 0.8252\n",
            "Epoch 15/70\n",
            "420/420 [==============================] - 1s 3ms/step - loss: 0.5164 - accuracy: 0.8295 - val_loss: 0.5217 - val_accuracy: 0.8268\n",
            "Epoch 16/70\n",
            "420/420 [==============================] - 1s 3ms/step - loss: 0.5116 - accuracy: 0.8305 - val_loss: 0.5167 - val_accuracy: 0.8269\n",
            "Epoch 17/70\n",
            "420/420 [==============================] - 1s 3ms/step - loss: 0.5071 - accuracy: 0.8318 - val_loss: 0.5129 - val_accuracy: 0.8284\n",
            "Epoch 18/70\n",
            "420/420 [==============================] - 1s 3ms/step - loss: 0.5027 - accuracy: 0.8336 - val_loss: 0.5096 - val_accuracy: 0.8292\n",
            "Epoch 19/70\n",
            "420/420 [==============================] - 1s 3ms/step - loss: 0.4989 - accuracy: 0.8347 - val_loss: 0.5064 - val_accuracy: 0.8311\n",
            "Epoch 20/70\n",
            "420/420 [==============================] - 1s 3ms/step - loss: 0.4956 - accuracy: 0.8353 - val_loss: 0.5019 - val_accuracy: 0.8326\n",
            "Epoch 21/70\n",
            "420/420 [==============================] - 1s 3ms/step - loss: 0.4920 - accuracy: 0.8366 - val_loss: 0.5001 - val_accuracy: 0.8331\n",
            "Epoch 22/70\n",
            "420/420 [==============================] - 1s 3ms/step - loss: 0.4893 - accuracy: 0.8370 - val_loss: 0.4964 - val_accuracy: 0.8339\n",
            "Epoch 23/70\n",
            "420/420 [==============================] - 1s 3ms/step - loss: 0.4861 - accuracy: 0.8385 - val_loss: 0.4940 - val_accuracy: 0.8328\n",
            "Epoch 24/70\n",
            "420/420 [==============================] - 1s 3ms/step - loss: 0.4834 - accuracy: 0.8385 - val_loss: 0.4916 - val_accuracy: 0.8351\n",
            "Epoch 25/70\n",
            "420/420 [==============================] - 1s 3ms/step - loss: 0.4809 - accuracy: 0.8397 - val_loss: 0.4903 - val_accuracy: 0.8323\n",
            "Epoch 26/70\n",
            "420/420 [==============================] - 1s 3ms/step - loss: 0.4785 - accuracy: 0.8400 - val_loss: 0.4872 - val_accuracy: 0.8357\n",
            "Epoch 27/70\n",
            "420/420 [==============================] - 1s 3ms/step - loss: 0.4761 - accuracy: 0.8415 - val_loss: 0.4872 - val_accuracy: 0.8341\n",
            "Epoch 28/70\n",
            "420/420 [==============================] - 1s 3ms/step - loss: 0.4740 - accuracy: 0.8419 - val_loss: 0.4833 - val_accuracy: 0.8369\n",
            "Epoch 29/70\n",
            "420/420 [==============================] - 1s 3ms/step - loss: 0.4718 - accuracy: 0.8427 - val_loss: 0.4829 - val_accuracy: 0.8358\n",
            "Epoch 30/70\n",
            "420/420 [==============================] - 1s 3ms/step - loss: 0.4701 - accuracy: 0.8425 - val_loss: 0.4804 - val_accuracy: 0.8378\n",
            "Epoch 31/70\n",
            "420/420 [==============================] - 1s 3ms/step - loss: 0.4683 - accuracy: 0.8436 - val_loss: 0.4783 - val_accuracy: 0.8377\n",
            "Epoch 32/70\n",
            "420/420 [==============================] - 2s 4ms/step - loss: 0.4664 - accuracy: 0.8438 - val_loss: 0.4764 - val_accuracy: 0.8382\n",
            "Epoch 33/70\n",
            "420/420 [==============================] - 1s 3ms/step - loss: 0.4647 - accuracy: 0.8444 - val_loss: 0.4756 - val_accuracy: 0.8394\n",
            "Epoch 34/70\n",
            "420/420 [==============================] - 1s 3ms/step - loss: 0.4630 - accuracy: 0.8456 - val_loss: 0.4748 - val_accuracy: 0.8393\n",
            "Epoch 35/70\n",
            "420/420 [==============================] - 1s 3ms/step - loss: 0.4614 - accuracy: 0.8456 - val_loss: 0.4720 - val_accuracy: 0.8404\n",
            "Epoch 36/70\n",
            "420/420 [==============================] - 1s 3ms/step - loss: 0.4597 - accuracy: 0.8456 - val_loss: 0.4727 - val_accuracy: 0.8392\n",
            "Epoch 37/70\n",
            "420/420 [==============================] - 1s 3ms/step - loss: 0.4585 - accuracy: 0.8463 - val_loss: 0.4703 - val_accuracy: 0.8403\n",
            "Epoch 38/70\n",
            "420/420 [==============================] - 1s 3ms/step - loss: 0.4570 - accuracy: 0.8464 - val_loss: 0.4687 - val_accuracy: 0.8412\n",
            "Epoch 39/70\n",
            "420/420 [==============================] - 1s 3ms/step - loss: 0.4556 - accuracy: 0.8470 - val_loss: 0.4680 - val_accuracy: 0.8411\n",
            "Epoch 40/70\n",
            "420/420 [==============================] - 2s 4ms/step - loss: 0.4544 - accuracy: 0.8476 - val_loss: 0.4672 - val_accuracy: 0.8414\n",
            "Epoch 41/70\n",
            "420/420 [==============================] - 1s 3ms/step - loss: 0.4532 - accuracy: 0.8472 - val_loss: 0.4652 - val_accuracy: 0.8420\n",
            "Epoch 42/70\n",
            "420/420 [==============================] - 1s 3ms/step - loss: 0.4519 - accuracy: 0.8474 - val_loss: 0.4657 - val_accuracy: 0.8423\n",
            "Epoch 43/70\n",
            "420/420 [==============================] - 1s 3ms/step - loss: 0.4507 - accuracy: 0.8482 - val_loss: 0.4630 - val_accuracy: 0.8436\n",
            "Epoch 44/70\n",
            "420/420 [==============================] - 1s 3ms/step - loss: 0.4496 - accuracy: 0.8485 - val_loss: 0.4635 - val_accuracy: 0.8428\n",
            "Epoch 45/70\n",
            "420/420 [==============================] - 1s 3ms/step - loss: 0.4486 - accuracy: 0.8485 - val_loss: 0.4618 - val_accuracy: 0.8437\n",
            "Epoch 46/70\n",
            "420/420 [==============================] - 1s 3ms/step - loss: 0.4475 - accuracy: 0.8491 - val_loss: 0.4612 - val_accuracy: 0.8435\n",
            "Epoch 47/70\n",
            "420/420 [==============================] - 1s 3ms/step - loss: 0.4464 - accuracy: 0.8500 - val_loss: 0.4598 - val_accuracy: 0.8444\n",
            "Epoch 48/70\n",
            "420/420 [==============================] - 1s 3ms/step - loss: 0.4455 - accuracy: 0.8497 - val_loss: 0.4591 - val_accuracy: 0.8449\n",
            "Epoch 49/70\n",
            "420/420 [==============================] - 1s 3ms/step - loss: 0.4446 - accuracy: 0.8500 - val_loss: 0.4580 - val_accuracy: 0.8464\n",
            "Epoch 50/70\n",
            "420/420 [==============================] - 1s 3ms/step - loss: 0.4434 - accuracy: 0.8495 - val_loss: 0.4575 - val_accuracy: 0.8457\n",
            "Epoch 51/70\n",
            "420/420 [==============================] - 1s 3ms/step - loss: 0.4427 - accuracy: 0.8507 - val_loss: 0.4563 - val_accuracy: 0.8464\n",
            "Epoch 52/70\n",
            "420/420 [==============================] - 1s 3ms/step - loss: 0.4417 - accuracy: 0.8504 - val_loss: 0.4566 - val_accuracy: 0.8456\n",
            "Epoch 53/70\n",
            "420/420 [==============================] - 1s 3ms/step - loss: 0.4407 - accuracy: 0.8508 - val_loss: 0.4557 - val_accuracy: 0.8454\n",
            "Epoch 54/70\n",
            "420/420 [==============================] - 1s 3ms/step - loss: 0.4400 - accuracy: 0.8513 - val_loss: 0.4541 - val_accuracy: 0.8472\n",
            "Epoch 55/70\n",
            "420/420 [==============================] - 1s 3ms/step - loss: 0.4392 - accuracy: 0.8514 - val_loss: 0.4536 - val_accuracy: 0.8462\n",
            "Epoch 56/70\n",
            "420/420 [==============================] - 1s 3ms/step - loss: 0.4381 - accuracy: 0.8522 - val_loss: 0.4529 - val_accuracy: 0.8474\n",
            "Epoch 57/70\n",
            "420/420 [==============================] - 2s 4ms/step - loss: 0.4375 - accuracy: 0.8521 - val_loss: 0.4523 - val_accuracy: 0.8476\n",
            "Epoch 58/70\n",
            "420/420 [==============================] - 2s 4ms/step - loss: 0.4367 - accuracy: 0.8525 - val_loss: 0.4518 - val_accuracy: 0.8467\n",
            "Epoch 59/70\n",
            "420/420 [==============================] - 1s 3ms/step - loss: 0.4360 - accuracy: 0.8521 - val_loss: 0.4514 - val_accuracy: 0.8470\n",
            "Epoch 60/70\n",
            "420/420 [==============================] - 1s 3ms/step - loss: 0.4354 - accuracy: 0.8523 - val_loss: 0.4506 - val_accuracy: 0.8482\n",
            "Epoch 61/70\n",
            "420/420 [==============================] - 1s 3ms/step - loss: 0.4346 - accuracy: 0.8525 - val_loss: 0.4499 - val_accuracy: 0.8480\n",
            "Epoch 62/70\n",
            "420/420 [==============================] - 1s 3ms/step - loss: 0.4340 - accuracy: 0.8524 - val_loss: 0.4506 - val_accuracy: 0.8472\n",
            "Epoch 63/70\n",
            "420/420 [==============================] - 1s 3ms/step - loss: 0.4333 - accuracy: 0.8533 - val_loss: 0.4490 - val_accuracy: 0.8486\n",
            "Epoch 64/70\n",
            "420/420 [==============================] - 1s 3ms/step - loss: 0.4325 - accuracy: 0.8530 - val_loss: 0.4492 - val_accuracy: 0.8484\n",
            "Epoch 65/70\n",
            "420/420 [==============================] - 1s 3ms/step - loss: 0.4320 - accuracy: 0.8536 - val_loss: 0.4478 - val_accuracy: 0.8487\n",
            "Epoch 66/70\n",
            "420/420 [==============================] - 1s 3ms/step - loss: 0.4313 - accuracy: 0.8533 - val_loss: 0.4477 - val_accuracy: 0.8480\n",
            "Epoch 67/70\n",
            "420/420 [==============================] - 1s 3ms/step - loss: 0.4306 - accuracy: 0.8535 - val_loss: 0.4470 - val_accuracy: 0.8490\n",
            "Epoch 68/70\n",
            "420/420 [==============================] - 1s 3ms/step - loss: 0.4301 - accuracy: 0.8541 - val_loss: 0.4463 - val_accuracy: 0.8491\n",
            "Epoch 69/70\n",
            "420/420 [==============================] - 1s 3ms/step - loss: 0.4294 - accuracy: 0.8536 - val_loss: 0.4459 - val_accuracy: 0.8491\n",
            "Epoch 70/70\n",
            "420/420 [==============================] - 1s 3ms/step - loss: 0.4290 - accuracy: 0.8538 - val_loss: 0.4456 - val_accuracy: 0.8490\n"
          ]
        }
      ]
    },
    {
      "cell_type": "code",
      "metadata": {
        "colab": {
          "base_uri": "https://localhost:8080/",
          "height": 592
        },
        "id": "Hes4b2NspVjJ",
        "outputId": "ce6081b2-c8d5-4a10-ccb3-83a320290953"
      },
      "source": [
        "import matplotlib.pyplot as plt\n",
        "%matplotlib inline\n",
        "print(training.history.keys())\n",
        "#plotting accuracy\n",
        "plt.plot(training.history['accuracy'])\n",
        "plt.plot(training.history['val_accuracy'])\n",
        "plt.title('model accuracy')\n",
        "plt.ylabel('accuracy')\n",
        "plt.xlabel('epoch')\n",
        "plt.legend(['train', 'test'], loc='upper left')\n",
        "plt.show()\n",
        "# summarize traning for loss\n",
        "plt.plot(training.history['loss'])\n",
        "plt.plot(training.history['val_loss'])\n",
        "plt.title('model loss')\n",
        "plt.ylabel('loss')\n",
        "plt.xlabel('epoch')\n",
        "plt.legend(['train', 'test'], loc='upper left')\n",
        "plt.show()"
      ],
      "execution_count": null,
      "outputs": [
        {
          "output_type": "stream",
          "name": "stdout",
          "text": [
            "dict_keys(['loss', 'accuracy', 'val_loss', 'val_accuracy'])\n"
          ]
        },
        {
          "output_type": "display_data",
          "data": {
            "image/png": "[encoded data removed]",
            "text/plain": [
              "<Figure size 432x288 with 1 Axes>"
            ]
          },
          "metadata": {
            "needs_background": "light"
          }
        },
        {
          "output_type": "display_data",
          "data": {
            "image/png": "[encoded data removed]",
            "text/plain": [
              "<Figure size 432x288 with 1 Axes>"
            ]
          },
          "metadata": {
            "needs_background": "light"
          }
        }
      ]
    },
    {
      "cell_type": "code",
      "metadata": {
        "colab": {
          "base_uri": "https://localhost:8080/"
        },
        "id": "2mm7FlTutw_Q",
        "outputId": "598046ca-37e8-4200-cdb5-4c4481b8c70c"
      },
      "source": [
        "#evaluate the model\n",
        "test_loss, test_acc = model_0.evaluate(X_test, y_test)\n",
        "print('Test accuracy:', test_acc)"
      ],
      "execution_count": null,
      "outputs": [
        {
          "output_type": "stream",
          "name": "stdout",
          "text": [
            "313/313 [==============================] - 1s 3ms/step - loss: 0.4698 - accuracy: 0.8370\n",
            "Test accuracy: 0.8370000123977661\n"
          ]
        }
      ]
    },
    {
      "cell_type": "code",
      "metadata": {
        "id": "bdJqM5qU4RD6",
        "colab": {
          "base_uri": "https://localhost:8080/"
        },
        "outputId": "630a7cfc-96d5-4828-b860-3605d8e25c97"
      },
      "source": [
        "model_0.summary()"
      ],
      "execution_count": null,
      "outputs": [
        {
          "output_type": "stream",
          "name": "stdout",
          "text": [
            "Model: \"sequential\"\n",
            "_________________________________________________________________\n",
            "Layer (type)                 Output Shape              Param #   \n",
            "=================================================================\n",
            "Dense_layer (Dense)          (None, 10)                7850      \n",
            "=================================================================\n",
            "Total params: 7,850\n",
            "Trainable params: 7,850\n",
            "Non-trainable params: 0\n",
            "_________________________________________________________________\n"
          ]
        }
      ]
    },
    {
      "cell_type": "markdown",
      "metadata": {
        "id": "LTAit8CCvWG3"
      },
      "source": [
        "# **Multi-Layered Perceptron(MNIST Fashion Dataset)**"
      ]
    },
    {
      "cell_type": "markdown",
      "metadata": {
        "id": "z1MdWvMl5vsk"
      },
      "source": [
        "### **Model 1**"
      ]
    },
    {
      "cell_type": "code",
      "metadata": {
        "id": "aCB92O2xvc6h"
      },
      "source": [
        "model_1 = tf.keras.Sequential()\n",
        "N_hidden = 64\n",
        "# Adds a densely-connected layer with 64 units to the model:\n",
        "model_1.add(Dense(N_hidden, name='dense_layer', input_shape=(784,), activation = 'relu'))\n",
        "model_1.add(Dropout(0.3))\n",
        "\n",
        "# After the first layer, you don't need to specify\u000b# the size of the input anymore:\n",
        "# Add an output layer with 10 output units (10 different classes):\n",
        "model_1.add(Dense(10, name='dense_layer_2', activation = 'softmax'))"
      ],
      "execution_count": null,
      "outputs": []
    },
    {
      "cell_type": "code",
      "metadata": {
        "id": "YPIGXzCzvf-2"
      },
      "source": [
        "model_1.compile(optimizer='SGD', \n",
        "              loss='categorical_crossentropy',\n",
        "              metrics=['accuracy'])"
      ],
      "execution_count": null,
      "outputs": []
    },
    {
      "cell_type": "code",
      "metadata": {
        "colab": {
          "base_uri": "https://localhost:8080/"
        },
        "id": "r9w3uLkevjpW",
        "outputId": "fec6e085-3a47-4569-9808-74aaf3b19922"
      },
      "source": [
        "training = model_1.fit(X_train, y_train, batch_size=100, epochs=70, validation_split=0.2) "
      ],
      "execution_count": null,
      "outputs": [
        {
          "output_type": "stream",
          "name": "stdout",
          "text": [
            "Epoch 1/70\n",
            "480/480 [==============================] - 3s 4ms/step - loss: 1.2617 - accuracy: 0.5745 - val_loss: 0.8089 - val_accuracy: 0.7393\n",
            "Epoch 2/70\n",
            "480/480 [==============================] - 2s 4ms/step - loss: 0.8418 - accuracy: 0.7105 - val_loss: 0.6753 - val_accuracy: 0.7792\n",
            "Epoch 3/70\n",
            "480/480 [==============================] - 2s 4ms/step - loss: 0.7388 - accuracy: 0.7505 - val_loss: 0.6159 - val_accuracy: 0.7921\n",
            "Epoch 4/70\n",
            "480/480 [==============================] - 2s 3ms/step - loss: 0.6779 - accuracy: 0.7714 - val_loss: 0.5758 - val_accuracy: 0.8083\n",
            "Epoch 5/70\n",
            "480/480 [==============================] - 2s 4ms/step - loss: 0.6352 - accuracy: 0.7868 - val_loss: 0.5478 - val_accuracy: 0.8150\n",
            "Epoch 6/70\n",
            "480/480 [==============================] - 2s 4ms/step - loss: 0.6105 - accuracy: 0.7949 - val_loss: 0.5300 - val_accuracy: 0.8185\n",
            "Epoch 7/70\n",
            "480/480 [==============================] - 2s 4ms/step - loss: 0.5849 - accuracy: 0.8025 - val_loss: 0.5148 - val_accuracy: 0.8227\n",
            "Epoch 8/70\n",
            "480/480 [==============================] - 2s 4ms/step - loss: 0.5654 - accuracy: 0.8069 - val_loss: 0.5006 - val_accuracy: 0.8262\n",
            "Epoch 9/70\n",
            "480/480 [==============================] - 2s 3ms/step - loss: 0.5496 - accuracy: 0.8141 - val_loss: 0.4889 - val_accuracy: 0.8300\n",
            "Epoch 10/70\n",
            "480/480 [==============================] - 2s 4ms/step - loss: 0.5380 - accuracy: 0.8171 - val_loss: 0.4783 - val_accuracy: 0.8320\n",
            "Epoch 11/70\n",
            "480/480 [==============================] - 2s 3ms/step - loss: 0.5264 - accuracy: 0.8194 - val_loss: 0.4719 - val_accuracy: 0.8344\n",
            "Epoch 12/70\n",
            "480/480 [==============================] - 2s 3ms/step - loss: 0.5176 - accuracy: 0.8240 - val_loss: 0.4645 - val_accuracy: 0.8380\n",
            "Epoch 13/70\n",
            "480/480 [==============================] - 2s 3ms/step - loss: 0.5102 - accuracy: 0.8251 - val_loss: 0.4590 - val_accuracy: 0.8382\n",
            "Epoch 14/70\n",
            "480/480 [==============================] - 2s 3ms/step - loss: 0.5029 - accuracy: 0.8297 - val_loss: 0.4525 - val_accuracy: 0.8417\n",
            "Epoch 15/70\n",
            "480/480 [==============================] - 2s 3ms/step - loss: 0.4972 - accuracy: 0.8281 - val_loss: 0.4483 - val_accuracy: 0.8411\n",
            "Epoch 16/70\n",
            "480/480 [==============================] - 2s 3ms/step - loss: 0.4860 - accuracy: 0.8329 - val_loss: 0.4440 - val_accuracy: 0.8427\n",
            "Epoch 17/70\n",
            "480/480 [==============================] - 2s 3ms/step - loss: 0.4843 - accuracy: 0.8335 - val_loss: 0.4381 - val_accuracy: 0.8450\n",
            "Epoch 18/70\n",
            "480/480 [==============================] - 2s 3ms/step - loss: 0.4774 - accuracy: 0.8371 - val_loss: 0.4346 - val_accuracy: 0.8470\n",
            "Epoch 19/70\n",
            "480/480 [==============================] - 2s 4ms/step - loss: 0.4718 - accuracy: 0.8368 - val_loss: 0.4345 - val_accuracy: 0.8454\n",
            "Epoch 20/70\n",
            "480/480 [==============================] - 2s 4ms/step - loss: 0.4665 - accuracy: 0.8379 - val_loss: 0.4296 - val_accuracy: 0.8490\n",
            "Epoch 21/70\n",
            "480/480 [==============================] - 2s 4ms/step - loss: 0.4634 - accuracy: 0.8394 - val_loss: 0.4235 - val_accuracy: 0.8484\n",
            "Epoch 22/70\n",
            "480/480 [==============================] - 2s 4ms/step - loss: 0.4616 - accuracy: 0.8411 - val_loss: 0.4213 - val_accuracy: 0.8502\n",
            "Epoch 23/70\n",
            "480/480 [==============================] - 2s 3ms/step - loss: 0.4548 - accuracy: 0.8434 - val_loss: 0.4183 - val_accuracy: 0.8518\n",
            "Epoch 24/70\n",
            "480/480 [==============================] - 2s 4ms/step - loss: 0.4533 - accuracy: 0.8428 - val_loss: 0.4152 - val_accuracy: 0.8511\n",
            "Epoch 25/70\n",
            "480/480 [==============================] - 2s 3ms/step - loss: 0.4517 - accuracy: 0.8439 - val_loss: 0.4139 - val_accuracy: 0.8527\n",
            "Epoch 26/70\n",
            "480/480 [==============================] - 2s 4ms/step - loss: 0.4470 - accuracy: 0.8439 - val_loss: 0.4118 - val_accuracy: 0.8517\n",
            "Epoch 27/70\n",
            "480/480 [==============================] - 2s 3ms/step - loss: 0.4446 - accuracy: 0.8444 - val_loss: 0.4106 - val_accuracy: 0.8546\n",
            "Epoch 28/70\n",
            "480/480 [==============================] - 2s 3ms/step - loss: 0.4387 - accuracy: 0.8480 - val_loss: 0.4081 - val_accuracy: 0.8545\n",
            "Epoch 29/70\n",
            "480/480 [==============================] - 2s 4ms/step - loss: 0.4361 - accuracy: 0.8487 - val_loss: 0.4048 - val_accuracy: 0.8540\n",
            "Epoch 30/70\n",
            "480/480 [==============================] - 2s 3ms/step - loss: 0.4338 - accuracy: 0.8473 - val_loss: 0.4020 - val_accuracy: 0.8563\n",
            "Epoch 31/70\n",
            "480/480 [==============================] - 2s 4ms/step - loss: 0.4327 - accuracy: 0.8493 - val_loss: 0.4009 - val_accuracy: 0.8574\n",
            "Epoch 32/70\n",
            "480/480 [==============================] - 2s 4ms/step - loss: 0.4317 - accuracy: 0.8496 - val_loss: 0.3978 - val_accuracy: 0.8572\n",
            "Epoch 33/70\n",
            "480/480 [==============================] - 2s 4ms/step - loss: 0.4281 - accuracy: 0.8518 - val_loss: 0.3965 - val_accuracy: 0.8588\n",
            "Epoch 34/70\n",
            "480/480 [==============================] - 2s 3ms/step - loss: 0.4271 - accuracy: 0.8512 - val_loss: 0.3950 - val_accuracy: 0.8577\n",
            "Epoch 35/70\n",
            "480/480 [==============================] - 2s 4ms/step - loss: 0.4240 - accuracy: 0.8526 - val_loss: 0.3940 - val_accuracy: 0.8579\n",
            "Epoch 36/70\n",
            "480/480 [==============================] - 2s 4ms/step - loss: 0.4235 - accuracy: 0.8545 - val_loss: 0.3922 - val_accuracy: 0.8602\n",
            "Epoch 37/70\n",
            "480/480 [==============================] - 2s 4ms/step - loss: 0.4209 - accuracy: 0.8529 - val_loss: 0.3910 - val_accuracy: 0.8610\n",
            "Epoch 38/70\n",
            "480/480 [==============================] - 2s 4ms/step - loss: 0.4163 - accuracy: 0.8545 - val_loss: 0.3909 - val_accuracy: 0.8615\n",
            "Epoch 39/70\n",
            "480/480 [==============================] - 2s 4ms/step - loss: 0.4149 - accuracy: 0.8546 - val_loss: 0.3875 - val_accuracy: 0.8631\n",
            "Epoch 40/70\n",
            "480/480 [==============================] - 2s 4ms/step - loss: 0.4150 - accuracy: 0.8561 - val_loss: 0.3864 - val_accuracy: 0.8610\n",
            "Epoch 41/70\n",
            "480/480 [==============================] - 2s 3ms/step - loss: 0.4095 - accuracy: 0.8564 - val_loss: 0.3849 - val_accuracy: 0.8626\n",
            "Epoch 42/70\n",
            "480/480 [==============================] - 2s 3ms/step - loss: 0.4114 - accuracy: 0.8550 - val_loss: 0.3839 - val_accuracy: 0.8629\n",
            "Epoch 43/70\n",
            "480/480 [==============================] - 2s 3ms/step - loss: 0.4083 - accuracy: 0.8579 - val_loss: 0.3824 - val_accuracy: 0.8615\n",
            "Epoch 44/70\n",
            "480/480 [==============================] - 2s 3ms/step - loss: 0.4062 - accuracy: 0.8593 - val_loss: 0.3820 - val_accuracy: 0.8627\n",
            "Epoch 45/70\n",
            "480/480 [==============================] - 2s 3ms/step - loss: 0.4049 - accuracy: 0.8587 - val_loss: 0.3803 - val_accuracy: 0.8652\n",
            "Epoch 46/70\n",
            "480/480 [==============================] - 2s 3ms/step - loss: 0.4034 - accuracy: 0.8583 - val_loss: 0.3795 - val_accuracy: 0.8637\n",
            "Epoch 47/70\n",
            "480/480 [==============================] - 2s 3ms/step - loss: 0.4038 - accuracy: 0.8595 - val_loss: 0.3780 - val_accuracy: 0.8635\n",
            "Epoch 48/70\n",
            "480/480 [==============================] - 2s 3ms/step - loss: 0.3996 - accuracy: 0.8603 - val_loss: 0.3775 - val_accuracy: 0.8651\n",
            "Epoch 49/70\n",
            "480/480 [==============================] - 2s 4ms/step - loss: 0.4026 - accuracy: 0.8575 - val_loss: 0.3785 - val_accuracy: 0.8646\n",
            "Epoch 50/70\n",
            "480/480 [==============================] - 2s 3ms/step - loss: 0.3975 - accuracy: 0.8606 - val_loss: 0.3753 - val_accuracy: 0.8655\n",
            "Epoch 51/70\n",
            "480/480 [==============================] - 2s 4ms/step - loss: 0.3957 - accuracy: 0.8623 - val_loss: 0.3756 - val_accuracy: 0.8644\n",
            "Epoch 52/70\n",
            "480/480 [==============================] - 2s 3ms/step - loss: 0.3944 - accuracy: 0.8627 - val_loss: 0.3730 - val_accuracy: 0.8650\n",
            "Epoch 53/70\n",
            "480/480 [==============================] - 2s 4ms/step - loss: 0.3910 - accuracy: 0.8633 - val_loss: 0.3716 - val_accuracy: 0.8665\n",
            "Epoch 54/70\n",
            "480/480 [==============================] - 2s 4ms/step - loss: 0.3924 - accuracy: 0.8639 - val_loss: 0.3715 - val_accuracy: 0.8658\n",
            "Epoch 55/70\n",
            "480/480 [==============================] - 2s 4ms/step - loss: 0.3943 - accuracy: 0.8640 - val_loss: 0.3717 - val_accuracy: 0.8674\n",
            "Epoch 56/70\n",
            "480/480 [==============================] - 2s 4ms/step - loss: 0.3902 - accuracy: 0.8632 - val_loss: 0.3692 - val_accuracy: 0.8676\n",
            "Epoch 57/70\n",
            "480/480 [==============================] - 2s 4ms/step - loss: 0.3869 - accuracy: 0.8651 - val_loss: 0.3679 - val_accuracy: 0.8679\n",
            "Epoch 58/70\n",
            "480/480 [==============================] - 2s 4ms/step - loss: 0.3865 - accuracy: 0.8648 - val_loss: 0.3702 - val_accuracy: 0.8680\n",
            "Epoch 59/70\n",
            "480/480 [==============================] - 2s 4ms/step - loss: 0.3880 - accuracy: 0.8661 - val_loss: 0.3681 - val_accuracy: 0.8662\n",
            "Epoch 60/70\n",
            "480/480 [==============================] - 2s 4ms/step - loss: 0.3840 - accuracy: 0.8668 - val_loss: 0.3666 - val_accuracy: 0.8689\n",
            "Epoch 61/70\n",
            "480/480 [==============================] - 2s 3ms/step - loss: 0.3859 - accuracy: 0.8648 - val_loss: 0.3664 - val_accuracy: 0.8680\n",
            "Epoch 62/70\n",
            "480/480 [==============================] - 2s 4ms/step - loss: 0.3851 - accuracy: 0.8647 - val_loss: 0.3654 - val_accuracy: 0.8698\n",
            "Epoch 63/70\n",
            "480/480 [==============================] - 2s 4ms/step - loss: 0.3830 - accuracy: 0.8662 - val_loss: 0.3640 - val_accuracy: 0.8691\n",
            "Epoch 64/70\n",
            "480/480 [==============================] - 2s 4ms/step - loss: 0.3845 - accuracy: 0.8643 - val_loss: 0.3636 - val_accuracy: 0.8691\n",
            "Epoch 65/70\n",
            "480/480 [==============================] - 2s 4ms/step - loss: 0.3806 - accuracy: 0.8677 - val_loss: 0.3624 - val_accuracy: 0.8692\n",
            "Epoch 66/70\n",
            "480/480 [==============================] - 2s 4ms/step - loss: 0.3796 - accuracy: 0.8674 - val_loss: 0.3619 - val_accuracy: 0.8696\n",
            "Epoch 67/70\n",
            "480/480 [==============================] - 2s 3ms/step - loss: 0.3769 - accuracy: 0.8664 - val_loss: 0.3615 - val_accuracy: 0.8701\n",
            "Epoch 68/70\n",
            "480/480 [==============================] - 2s 3ms/step - loss: 0.3790 - accuracy: 0.8674 - val_loss: 0.3612 - val_accuracy: 0.8696\n",
            "Epoch 69/70\n",
            "480/480 [==============================] - 2s 3ms/step - loss: 0.3759 - accuracy: 0.8674 - val_loss: 0.3601 - val_accuracy: 0.8708\n",
            "Epoch 70/70\n",
            "480/480 [==============================] - 2s 3ms/step - loss: 0.3732 - accuracy: 0.8694 - val_loss: 0.3600 - val_accuracy: 0.8694\n"
          ]
        }
      ]
    },
    {
      "cell_type": "code",
      "metadata": {
        "id": "3Q43lDLZvmiN",
        "colab": {
          "base_uri": "https://localhost:8080/",
          "height": 591
        },
        "outputId": "1cf6090d-64c2-4f0f-f179-1c208882cedd"
      },
      "source": [
        "import matplotlib.pyplot as plt\n",
        "%matplotlib inline\n",
        "# list all data in training\n",
        "print(training.history.keys())\n",
        "# summarize training for accuracy\n",
        "plt.plot(training.history['accuracy'])\n",
        "plt.plot(training.history['val_accuracy'])\n",
        "plt.title('Model accuracy of Fashion MNIST Dataset')\n",
        "plt.ylabel('accuracy')\n",
        "plt.xlabel('epoch')\n",
        "plt.legend(['train', 'test'], loc='upper left')\n",
        "plt.show()\n",
        "# summarize traning for loss\n",
        "plt.plot(training.history['loss'])\n",
        "plt.plot(training.history['val_loss'])\n",
        "plt.title('Model Loss of Fashion MNIST Dataset')\n",
        "plt.ylabel('loss')\n",
        "plt.xlabel('epoch')\n",
        "plt.legend(['Train', 'Test'], loc='upper left')\n",
        "plt.show()"
      ],
      "execution_count": null,
      "outputs": [
        {
          "output_type": "stream",
          "name": "stdout",
          "text": [
            "dict_keys(['loss', 'accuracy', 'val_loss', 'val_accuracy'])\n"
          ]
        },
        {
          "output_type": "display_data",
          "data": {
            "image/png": "[encoded data removed]",
            "text/plain": [
              "<Figure size 432x288 with 1 Axes>"
            ]
          },
          "metadata": {
            "needs_background": "light"
          }
        },
        {
          "output_type": "display_data",
          "data": {
            "image/png": "[encoded data removed]",
            "text/plain": [
              "<Figure size 432x288 with 1 Axes>"
            ]
          },
          "metadata": {
            "needs_background": "light"
          }
        }
      ]
    },
    {
      "cell_type": "code",
      "metadata": {
        "colab": {
          "base_uri": "https://localhost:8080/"
        },
        "id": "OH-kleVaDZp5",
        "outputId": "625abc53-293b-40f0-e2aa-6b4046aaee36"
      },
      "source": [
        "#evaluate the model\n",
        "test_loss, test_acc = model_1.evaluate(X_test, y_test)\n",
        "print('Test accuracy:', test_acc)"
      ],
      "execution_count": null,
      "outputs": [
        {
          "output_type": "stream",
          "name": "stdout",
          "text": [
            "313/313 [==============================] - 1s 3ms/step - loss: 0.3843 - accuracy: 0.8602\n",
            "Test accuracy: 0.8601999878883362\n"
          ]
        }
      ]
    },
    {
      "cell_type": "code",
      "metadata": {
        "colab": {
          "base_uri": "https://localhost:8080/"
        },
        "id": "3ZEMJyTvDwOz",
        "outputId": "c5292477-de60-46b6-e766-0734e39620dd"
      },
      "source": [
        "model_1.summary()"
      ],
      "execution_count": null,
      "outputs": [
        {
          "output_type": "stream",
          "name": "stdout",
          "text": [
            "Model: \"sequential_3\"\n",
            "_________________________________________________________________\n",
            "Layer (type)                 Output Shape              Param #   \n",
            "=================================================================\n",
            "dense_layer (Dense)          (None, 64)                50240     \n",
            "_________________________________________________________________\n",
            "dropout_1 (Dropout)          (None, 64)                0         \n",
            "_________________________________________________________________\n",
            "dense_layer_2 (Dense)        (None, 10)                650       \n",
            "=================================================================\n",
            "Total params: 50,890\n",
            "Trainable params: 50,890\n",
            "Non-trainable params: 0\n",
            "_________________________________________________________________\n"
          ]
        }
      ]
    },
    {
      "cell_type": "markdown",
      "metadata": {
        "id": "vx8D9NhWGjSI"
      },
      "source": [
        "### **Model 2(Improvised)**"
      ]
    },
    {
      "cell_type": "markdown",
      "metadata": {
        "id": "2UAXZv8VHmFL"
      },
      "source": [
        "**Here number of hidden neurons is increased to 128, 2 more dense layers as well as dropout layers has been added as well.**"
      ]
    },
    {
      "cell_type": "code",
      "metadata": {
        "id": "xkoxqSXnGrxa"
      },
      "source": [
        "model_2 = tf.keras.Sequential()\n",
        "N_hidden = 128\n",
        "# Adds a densely-connected layer with 128 units to the model:\n",
        "model_2.add(Dense(N_hidden, name='dense_layer_1', input_shape=(784,), activation = 'relu'))\n",
        "model_2.add(Dropout(0.3))\n",
        "\n",
        "model_2.add(Dense(N_hidden, name='dense_layer_2', input_shape=(784,), activation = 'relu'))\n",
        "model_2.add(Dropout(0.3))\n",
        "\n",
        "model_2.add(Dense(N_hidden, name='dense_layer_3', input_shape=(784,), activation = 'relu'))\n",
        "model_2.add(Dropout(0.3))\n",
        "\n",
        "# After the first layer, you don't need to specify\u000b# the size of the input anymore:\n",
        "# Add an output layer with 10 output units (10 different classes):\n",
        "model_2.add(Dense(10, name='dense_layer_4', activation = 'softmax'))"
      ],
      "execution_count": null,
      "outputs": []
    },
    {
      "cell_type": "code",
      "metadata": {
        "id": "5b7WUfHEILOJ"
      },
      "source": [
        "# Compiling the model.\n",
        "model_2.compile(optimizer='SGD', \n",
        "              loss='categorical_crossentropy',\n",
        "              metrics=['accuracy'])"
      ],
      "execution_count": null,
      "outputs": []
    },
    {
      "cell_type": "code",
      "metadata": {
        "colab": {
          "base_uri": "https://localhost:8080/"
        },
        "id": "CbhDxyByIa3U",
        "outputId": "d20f6def-df73-45bd-e878-fb7dc8baa7b2"
      },
      "source": [
        "# Training the model. \n",
        "training_2 = model_2.fit(X_train, y_train, batch_size=100, epochs=80, validation_split=0.3) "
      ],
      "execution_count": null,
      "outputs": [
        {
          "output_type": "stream",
          "name": "stdout",
          "text": [
            "Epoch 1/80\n",
            "420/420 [==============================] - 3s 6ms/step - loss: 1.6369 - accuracy: 0.4145 - val_loss: 0.9353 - val_accuracy: 0.6756\n",
            "Epoch 2/80\n",
            "420/420 [==============================] - 2s 4ms/step - loss: 1.0486 - accuracy: 0.6090 - val_loss: 0.7517 - val_accuracy: 0.7131\n",
            "Epoch 3/80\n",
            "420/420 [==============================] - 2s 4ms/step - loss: 0.8864 - accuracy: 0.6696 - val_loss: 0.6738 - val_accuracy: 0.7546\n",
            "Epoch 4/80\n",
            "420/420 [==============================] - 2s 5ms/step - loss: 0.8022 - accuracy: 0.7060 - val_loss: 0.6252 - val_accuracy: 0.7736\n",
            "Epoch 5/80\n",
            "420/420 [==============================] - 2s 4ms/step - loss: 0.7409 - accuracy: 0.7300 - val_loss: 0.5860 - val_accuracy: 0.7921\n",
            "Epoch 6/80\n",
            "420/420 [==============================] - 2s 5ms/step - loss: 0.6978 - accuracy: 0.7501 - val_loss: 0.5499 - val_accuracy: 0.8053\n",
            "Epoch 7/80\n",
            "420/420 [==============================] - 2s 4ms/step - loss: 0.6576 - accuracy: 0.7644 - val_loss: 0.5250 - val_accuracy: 0.8129\n",
            "Epoch 8/80\n",
            "420/420 [==============================] - 2s 5ms/step - loss: 0.6326 - accuracy: 0.7762 - val_loss: 0.5064 - val_accuracy: 0.8198\n",
            "Epoch 9/80\n",
            "420/420 [==============================] - 2s 5ms/step - loss: 0.6087 - accuracy: 0.7844 - val_loss: 0.4911 - val_accuracy: 0.8232\n",
            "Epoch 10/80\n",
            "420/420 [==============================] - 2s 5ms/step - loss: 0.5905 - accuracy: 0.7902 - val_loss: 0.4787 - val_accuracy: 0.8276\n",
            "Epoch 11/80\n",
            "420/420 [==============================] - 2s 5ms/step - loss: 0.5753 - accuracy: 0.7994 - val_loss: 0.4712 - val_accuracy: 0.8294\n",
            "Epoch 12/80\n",
            "420/420 [==============================] - 2s 5ms/step - loss: 0.5606 - accuracy: 0.8026 - val_loss: 0.4592 - val_accuracy: 0.8351\n",
            "Epoch 13/80\n",
            "420/420 [==============================] - 2s 5ms/step - loss: 0.5477 - accuracy: 0.8066 - val_loss: 0.4537 - val_accuracy: 0.8351\n",
            "Epoch 14/80\n",
            "420/420 [==============================] - 2s 4ms/step - loss: 0.5356 - accuracy: 0.8122 - val_loss: 0.4462 - val_accuracy: 0.8397\n",
            "Epoch 15/80\n",
            "420/420 [==============================] - 2s 5ms/step - loss: 0.5246 - accuracy: 0.8159 - val_loss: 0.4386 - val_accuracy: 0.8397\n",
            "Epoch 16/80\n",
            "420/420 [==============================] - 2s 5ms/step - loss: 0.5169 - accuracy: 0.8181 - val_loss: 0.4364 - val_accuracy: 0.8414\n",
            "Epoch 17/80\n",
            "420/420 [==============================] - 2s 4ms/step - loss: 0.5062 - accuracy: 0.8216 - val_loss: 0.4265 - val_accuracy: 0.8440\n",
            "Epoch 18/80\n",
            "420/420 [==============================] - 2s 4ms/step - loss: 0.5022 - accuracy: 0.8259 - val_loss: 0.4234 - val_accuracy: 0.8451\n",
            "Epoch 19/80\n",
            "420/420 [==============================] - 2s 5ms/step - loss: 0.4941 - accuracy: 0.8260 - val_loss: 0.4194 - val_accuracy: 0.8462\n",
            "Epoch 20/80\n",
            "420/420 [==============================] - 2s 4ms/step - loss: 0.4864 - accuracy: 0.8293 - val_loss: 0.4140 - val_accuracy: 0.8501\n",
            "Epoch 21/80\n",
            "420/420 [==============================] - 2s 4ms/step - loss: 0.4815 - accuracy: 0.8308 - val_loss: 0.4131 - val_accuracy: 0.8484\n",
            "Epoch 22/80\n",
            "420/420 [==============================] - 2s 5ms/step - loss: 0.4726 - accuracy: 0.8321 - val_loss: 0.4073 - val_accuracy: 0.8543\n",
            "Epoch 23/80\n",
            "420/420 [==============================] - 2s 5ms/step - loss: 0.4660 - accuracy: 0.8375 - val_loss: 0.4063 - val_accuracy: 0.8526\n",
            "Epoch 24/80\n",
            "420/420 [==============================] - 2s 5ms/step - loss: 0.4653 - accuracy: 0.8376 - val_loss: 0.4025 - val_accuracy: 0.8544\n",
            "Epoch 25/80\n",
            "420/420 [==============================] - 2s 4ms/step - loss: 0.4582 - accuracy: 0.8393 - val_loss: 0.3981 - val_accuracy: 0.8569\n",
            "Epoch 26/80\n",
            "420/420 [==============================] - 2s 5ms/step - loss: 0.4530 - accuracy: 0.8398 - val_loss: 0.3957 - val_accuracy: 0.8573\n",
            "Epoch 27/80\n",
            "420/420 [==============================] - 2s 4ms/step - loss: 0.4493 - accuracy: 0.8422 - val_loss: 0.3922 - val_accuracy: 0.8580\n",
            "Epoch 28/80\n",
            "420/420 [==============================] - 2s 5ms/step - loss: 0.4474 - accuracy: 0.8437 - val_loss: 0.3888 - val_accuracy: 0.8620\n",
            "Epoch 29/80\n",
            "420/420 [==============================] - 2s 4ms/step - loss: 0.4427 - accuracy: 0.8451 - val_loss: 0.3870 - val_accuracy: 0.8622\n",
            "Epoch 30/80\n",
            "420/420 [==============================] - 2s 5ms/step - loss: 0.4399 - accuracy: 0.8464 - val_loss: 0.3860 - val_accuracy: 0.8621\n",
            "Epoch 31/80\n",
            "420/420 [==============================] - 2s 4ms/step - loss: 0.4342 - accuracy: 0.8480 - val_loss: 0.3844 - val_accuracy: 0.8628\n",
            "Epoch 32/80\n",
            "420/420 [==============================] - 2s 5ms/step - loss: 0.4277 - accuracy: 0.8488 - val_loss: 0.3801 - val_accuracy: 0.8643\n",
            "Epoch 33/80\n",
            "420/420 [==============================] - 2s 4ms/step - loss: 0.4267 - accuracy: 0.8506 - val_loss: 0.3775 - val_accuracy: 0.8655\n",
            "Epoch 34/80\n",
            "420/420 [==============================] - 2s 4ms/step - loss: 0.4251 - accuracy: 0.8517 - val_loss: 0.3754 - val_accuracy: 0.8668\n",
            "Epoch 35/80\n",
            "420/420 [==============================] - 2s 5ms/step - loss: 0.4221 - accuracy: 0.8510 - val_loss: 0.3716 - val_accuracy: 0.8683\n",
            "Epoch 36/80\n",
            "420/420 [==============================] - 2s 5ms/step - loss: 0.4220 - accuracy: 0.8539 - val_loss: 0.3719 - val_accuracy: 0.8677\n",
            "Epoch 37/80\n",
            "420/420 [==============================] - 2s 4ms/step - loss: 0.4155 - accuracy: 0.8542 - val_loss: 0.3693 - val_accuracy: 0.8685\n",
            "Epoch 38/80\n",
            "420/420 [==============================] - 2s 4ms/step - loss: 0.4109 - accuracy: 0.8538 - val_loss: 0.3721 - val_accuracy: 0.8665\n",
            "Epoch 39/80\n",
            "420/420 [==============================] - 2s 4ms/step - loss: 0.4107 - accuracy: 0.8552 - val_loss: 0.3678 - val_accuracy: 0.8699\n",
            "Epoch 40/80\n",
            "420/420 [==============================] - 2s 4ms/step - loss: 0.4115 - accuracy: 0.8554 - val_loss: 0.3653 - val_accuracy: 0.8714\n",
            "Epoch 41/80\n",
            "420/420 [==============================] - 2s 4ms/step - loss: 0.4050 - accuracy: 0.8581 - val_loss: 0.3648 - val_accuracy: 0.8701\n",
            "Epoch 42/80\n",
            "420/420 [==============================] - 2s 4ms/step - loss: 0.4039 - accuracy: 0.8579 - val_loss: 0.3639 - val_accuracy: 0.8711\n",
            "Epoch 43/80\n",
            "420/420 [==============================] - 2s 5ms/step - loss: 0.4003 - accuracy: 0.8585 - val_loss: 0.3648 - val_accuracy: 0.8694\n",
            "Epoch 44/80\n",
            "420/420 [==============================] - 2s 5ms/step - loss: 0.3969 - accuracy: 0.8610 - val_loss: 0.3606 - val_accuracy: 0.8710\n",
            "Epoch 45/80\n",
            "420/420 [==============================] - 2s 4ms/step - loss: 0.3945 - accuracy: 0.8619 - val_loss: 0.3580 - val_accuracy: 0.8739\n",
            "Epoch 46/80\n",
            "420/420 [==============================] - 2s 5ms/step - loss: 0.3918 - accuracy: 0.8630 - val_loss: 0.3579 - val_accuracy: 0.8728\n",
            "Epoch 47/80\n",
            "420/420 [==============================] - 2s 5ms/step - loss: 0.3893 - accuracy: 0.8629 - val_loss: 0.3576 - val_accuracy: 0.8734\n",
            "Epoch 48/80\n",
            "420/420 [==============================] - 2s 4ms/step - loss: 0.3868 - accuracy: 0.8626 - val_loss: 0.3545 - val_accuracy: 0.8731\n",
            "Epoch 49/80\n",
            "420/420 [==============================] - 2s 4ms/step - loss: 0.3876 - accuracy: 0.8646 - val_loss: 0.3546 - val_accuracy: 0.8738\n",
            "Epoch 50/80\n",
            "420/420 [==============================] - 2s 4ms/step - loss: 0.3824 - accuracy: 0.8644 - val_loss: 0.3576 - val_accuracy: 0.8720\n",
            "Epoch 51/80\n",
            "420/420 [==============================] - 2s 5ms/step - loss: 0.3821 - accuracy: 0.8641 - val_loss: 0.3531 - val_accuracy: 0.8755\n",
            "Epoch 52/80\n",
            "420/420 [==============================] - 2s 4ms/step - loss: 0.3784 - accuracy: 0.8669 - val_loss: 0.3552 - val_accuracy: 0.8742\n",
            "Epoch 53/80\n",
            "420/420 [==============================] - 2s 4ms/step - loss: 0.3773 - accuracy: 0.8658 - val_loss: 0.3513 - val_accuracy: 0.8748\n",
            "Epoch 54/80\n",
            "420/420 [==============================] - 2s 5ms/step - loss: 0.3782 - accuracy: 0.8686 - val_loss: 0.3507 - val_accuracy: 0.8764\n",
            "Epoch 55/80\n",
            "420/420 [==============================] - 2s 5ms/step - loss: 0.3762 - accuracy: 0.8667 - val_loss: 0.3474 - val_accuracy: 0.8771\n",
            "Epoch 56/80\n",
            "420/420 [==============================] - 2s 4ms/step - loss: 0.3759 - accuracy: 0.8664 - val_loss: 0.3486 - val_accuracy: 0.8772\n",
            "Epoch 57/80\n",
            "420/420 [==============================] - 2s 4ms/step - loss: 0.3683 - accuracy: 0.8693 - val_loss: 0.3453 - val_accuracy: 0.8756\n",
            "Epoch 58/80\n",
            "420/420 [==============================] - 2s 4ms/step - loss: 0.3671 - accuracy: 0.8711 - val_loss: 0.3459 - val_accuracy: 0.8774\n",
            "Epoch 59/80\n",
            "420/420 [==============================] - 2s 5ms/step - loss: 0.3634 - accuracy: 0.8692 - val_loss: 0.3457 - val_accuracy: 0.8777\n",
            "Epoch 60/80\n",
            "420/420 [==============================] - 2s 5ms/step - loss: 0.3641 - accuracy: 0.8701 - val_loss: 0.3442 - val_accuracy: 0.8783\n",
            "Epoch 61/80\n",
            "420/420 [==============================] - 2s 4ms/step - loss: 0.3607 - accuracy: 0.8731 - val_loss: 0.3434 - val_accuracy: 0.8803\n",
            "Epoch 62/80\n",
            "420/420 [==============================] - 2s 4ms/step - loss: 0.3592 - accuracy: 0.8717 - val_loss: 0.3440 - val_accuracy: 0.8784\n",
            "Epoch 63/80\n",
            "420/420 [==============================] - 2s 5ms/step - loss: 0.3631 - accuracy: 0.8711 - val_loss: 0.3415 - val_accuracy: 0.8787\n",
            "Epoch 64/80\n",
            "420/420 [==============================] - 2s 5ms/step - loss: 0.3606 - accuracy: 0.8742 - val_loss: 0.3429 - val_accuracy: 0.8788\n",
            "Epoch 65/80\n",
            "420/420 [==============================] - 2s 5ms/step - loss: 0.3592 - accuracy: 0.8725 - val_loss: 0.3461 - val_accuracy: 0.8760\n",
            "Epoch 66/80\n",
            "420/420 [==============================] - 2s 5ms/step - loss: 0.3550 - accuracy: 0.8738 - val_loss: 0.3424 - val_accuracy: 0.8792\n",
            "Epoch 67/80\n",
            "420/420 [==============================] - 2s 4ms/step - loss: 0.3539 - accuracy: 0.8756 - val_loss: 0.3402 - val_accuracy: 0.8792\n",
            "Epoch 68/80\n",
            "420/420 [==============================] - 2s 5ms/step - loss: 0.3524 - accuracy: 0.8756 - val_loss: 0.3403 - val_accuracy: 0.8798\n",
            "Epoch 69/80\n",
            "420/420 [==============================] - 2s 5ms/step - loss: 0.3499 - accuracy: 0.8752 - val_loss: 0.3395 - val_accuracy: 0.8806\n",
            "Epoch 70/80\n",
            "420/420 [==============================] - 2s 4ms/step - loss: 0.3478 - accuracy: 0.8777 - val_loss: 0.3387 - val_accuracy: 0.8798\n",
            "Epoch 71/80\n",
            "420/420 [==============================] - 2s 4ms/step - loss: 0.3477 - accuracy: 0.8758 - val_loss: 0.3370 - val_accuracy: 0.8819\n",
            "Epoch 72/80\n",
            "420/420 [==============================] - 2s 5ms/step - loss: 0.3443 - accuracy: 0.8778 - val_loss: 0.3369 - val_accuracy: 0.8798\n",
            "Epoch 73/80\n",
            "420/420 [==============================] - 2s 4ms/step - loss: 0.3442 - accuracy: 0.8785 - val_loss: 0.3378 - val_accuracy: 0.8804\n",
            "Epoch 74/80\n",
            "420/420 [==============================] - 2s 4ms/step - loss: 0.3448 - accuracy: 0.8771 - val_loss: 0.3372 - val_accuracy: 0.8811\n",
            "Epoch 75/80\n",
            "420/420 [==============================] - 2s 5ms/step - loss: 0.3400 - accuracy: 0.8792 - val_loss: 0.3353 - val_accuracy: 0.8824\n",
            "Epoch 76/80\n",
            "420/420 [==============================] - 2s 5ms/step - loss: 0.3375 - accuracy: 0.8785 - val_loss: 0.3357 - val_accuracy: 0.8802\n",
            "Epoch 77/80\n",
            "420/420 [==============================] - 2s 5ms/step - loss: 0.3398 - accuracy: 0.8794 - val_loss: 0.3343 - val_accuracy: 0.8820\n",
            "Epoch 78/80\n",
            "420/420 [==============================] - 2s 4ms/step - loss: 0.3382 - accuracy: 0.8804 - val_loss: 0.3336 - val_accuracy: 0.8813\n",
            "Epoch 79/80\n",
            "420/420 [==============================] - 2s 5ms/step - loss: 0.3345 - accuracy: 0.8805 - val_loss: 0.3338 - val_accuracy: 0.8819\n",
            "Epoch 80/80\n",
            "420/420 [==============================] - 2s 5ms/step - loss: 0.3350 - accuracy: 0.8819 - val_loss: 0.3339 - val_accuracy: 0.8821\n"
          ]
        }
      ]
    },
    {
      "cell_type": "code",
      "metadata": {
        "colab": {
          "base_uri": "https://localhost:8080/",
          "height": 592
        },
        "id": "OyrLN1mtI7gZ",
        "outputId": "e1651cb3-88ad-4c23-b9a0-493745331954"
      },
      "source": [
        "import matplotlib.pyplot as plt\n",
        "%matplotlib inline\n",
        "# list all data in training\n",
        "print(training_2.history.keys())\n",
        "# summarize training for accuracy\n",
        "plt.plot(training_2.history['accuracy'])\n",
        "plt.plot(training_2.history['val_accuracy'])\n",
        "plt.title('model accuracy')\n",
        "plt.ylabel('accuracy')\n",
        "plt.xlabel('epoch')\n",
        "plt.legend(['train', 'test'], loc='upper left')\n",
        "plt.show()\n",
        "# summarize traning for loss\n",
        "plt.plot(training_2.history['loss'])\n",
        "plt.plot(training_2.history['val_loss'])\n",
        "plt.title('model loss')\n",
        "plt.ylabel('loss')\n",
        "plt.xlabel('epoch')\n",
        "plt.legend(['train', 'test'], loc='upper left')\n",
        "plt.show()"
      ],
      "execution_count": null,
      "outputs": [
        {
          "output_type": "stream",
          "name": "stdout",
          "text": [
            "dict_keys(['loss', 'accuracy', 'val_loss', 'val_accuracy'])\n"
          ]
        },
        {
          "output_type": "display_data",
          "data": {
            "image/png": "[encoded data removed]",
            "text/plain": [
              "<Figure size 432x288 with 1 Axes>"
            ]
          },
          "metadata": {
            "needs_background": "light"
          }
        },
        {
          "output_type": "display_data",
          "data": {
            "image/png": "[encoded data removed]",
            "text/plain": [
              "<Figure size 432x288 with 1 Axes>"
            ]
          },
          "metadata": {
            "needs_background": "light"
          }
        }
      ]
    },
    {
      "cell_type": "code",
      "metadata": {
        "colab": {
          "base_uri": "https://localhost:8080/"
        },
        "id": "O_jgwdo7JECB",
        "outputId": "09ac85a7-5182-42c8-93bc-f113257b58c6"
      },
      "source": [
        "#evaluate the model\n",
        "test_loss, test_acc = model_2.evaluate(X_test, y_test)\n",
        "print('Test accuracy:', round(test_acc,2))"
      ],
      "execution_count": null,
      "outputs": [
        {
          "output_type": "stream",
          "name": "stdout",
          "text": [
            "313/313 [==============================] - 1s 4ms/step - loss: 0.3607 - accuracy: 0.8734\n",
            "Test accuracy: 0.87\n"
          ]
        }
      ]
    },
    {
      "cell_type": "code",
      "metadata": {
        "colab": {
          "base_uri": "https://localhost:8080/"
        },
        "id": "FyojPNAZMTaa",
        "outputId": "07c0cdbc-eb9b-4364-d7f8-9c71fc3d5b45"
      },
      "source": [
        "model_2.summary()"
      ],
      "execution_count": null,
      "outputs": [
        {
          "output_type": "stream",
          "name": "stdout",
          "text": [
            "Model: \"sequential_12\"\n",
            "_________________________________________________________________\n",
            "Layer (type)                 Output Shape              Param #   \n",
            "=================================================================\n",
            "dense_layer_1 (Dense)        (None, 128)               100480    \n",
            "_________________________________________________________________\n",
            "dropout_26 (Dropout)         (None, 128)               0         \n",
            "_________________________________________________________________\n",
            "dense_layer_2 (Dense)        (None, 128)               16512     \n",
            "_________________________________________________________________\n",
            "dropout_27 (Dropout)         (None, 128)               0         \n",
            "_________________________________________________________________\n",
            "dense_layer_3 (Dense)        (None, 128)               16512     \n",
            "_________________________________________________________________\n",
            "dropout_28 (Dropout)         (None, 128)               0         \n",
            "_________________________________________________________________\n",
            "dense_layer_4 (Dense)        (None, 10)                1290      \n",
            "=================================================================\n",
            "Total params: 134,794\n",
            "Trainable params: 134,794\n",
            "Non-trainable params: 0\n",
            "_________________________________________________________________\n"
          ]
        }
      ]
    },
    {
      "cell_type": "markdown",
      "metadata": {
        "id": "bNRlWqr-LP7d"
      },
      "source": [
        "### **Model 3 (Increasing number of hidden neurons, further increasing hidden layers, Manipuating Dropout value, Batch size and epochs)**"
      ]
    },
    {
      "cell_type": "code",
      "metadata": {
        "id": "qHamr50NLpKZ"
      },
      "source": [
        "model_3 = tf.keras.Sequential()\n",
        "N_hidden = 256\n",
        "# Adds a densely-connected layer with 256 units to the model:\n",
        "model_3.add(Dense(N_hidden, name='dense_layer_1', input_shape=(784,), activation = 'relu'))\n",
        "model_3.add(Dropout(0.2))\n",
        "\n",
        "model_3.add(Dense(N_hidden, name='dense_layer_2', input_shape=(784,), activation = 'relu'))\n",
        "model_3.add(Dropout(0.2))\n",
        "\n",
        "model_3.add(Dense(N_hidden, name='dense_layer_3', input_shape=(784,), activation = 'relu'))\n",
        "model_3.add(Dropout(0.2))\n",
        "\n",
        "model_3.add(Dense(N_hidden, name='dense_layer_4', input_shape=(784,), activation = 'relu'))\n",
        "model_3.add(Dropout(0.2))\n",
        "\n",
        "# Add an output layer with 10 output units (10 different classes):\n",
        "model_3.add(Dense(10, name='dense_layer_5', activation = 'softmax'))"
      ],
      "execution_count": null,
      "outputs": []
    },
    {
      "cell_type": "code",
      "metadata": {
        "id": "hVrsPkFcMEJJ"
      },
      "source": [
        "# Compiling the model.\n",
        "model_3.compile(optimizer='SGD', \n",
        "              loss='categorical_crossentropy',\n",
        "              metrics=['accuracy'])"
      ],
      "execution_count": null,
      "outputs": []
    },
    {
      "cell_type": "code",
      "metadata": {
        "colab": {
          "base_uri": "https://localhost:8080/"
        },
        "id": "MA9B8-M1MK-y",
        "outputId": "7b2ed3a8-c629-4df9-e900-53c86bd6de23"
      },
      "source": [
        "# Training the model. \n",
        "training_2 = model_3.fit(X_train, y_train, batch_size=120, epochs=80, validation_split=0.2) "
      ],
      "execution_count": null,
      "outputs": [
        {
          "output_type": "stream",
          "name": "stdout",
          "text": [
            "Epoch 1/80\n",
            "400/400 [==============================] - 4s 5ms/step - loss: 1.5971 - accuracy: 0.4418 - val_loss: 0.8373 - val_accuracy: 0.6903\n",
            "Epoch 2/80\n",
            "400/400 [==============================] - 2s 5ms/step - loss: 0.9163 - accuracy: 0.6529 - val_loss: 0.6886 - val_accuracy: 0.7416\n",
            "Epoch 3/80\n",
            "400/400 [==============================] - 2s 5ms/step - loss: 0.7761 - accuracy: 0.7137 - val_loss: 0.6155 - val_accuracy: 0.7725\n",
            "Epoch 4/80\n",
            "400/400 [==============================] - 2s 5ms/step - loss: 0.6967 - accuracy: 0.7507 - val_loss: 0.5654 - val_accuracy: 0.7947\n",
            "Epoch 5/80\n",
            "400/400 [==============================] - 2s 5ms/step - loss: 0.6392 - accuracy: 0.7729 - val_loss: 0.5318 - val_accuracy: 0.8080\n",
            "Epoch 6/80\n",
            "400/400 [==============================] - 2s 5ms/step - loss: 0.5969 - accuracy: 0.7897 - val_loss: 0.5012 - val_accuracy: 0.8205\n",
            "Epoch 7/80\n",
            "400/400 [==============================] - 2s 5ms/step - loss: 0.5650 - accuracy: 0.8018 - val_loss: 0.4829 - val_accuracy: 0.8256\n",
            "Epoch 8/80\n",
            "400/400 [==============================] - 2s 5ms/step - loss: 0.5424 - accuracy: 0.8093 - val_loss: 0.4630 - val_accuracy: 0.8323\n",
            "Epoch 9/80\n",
            "400/400 [==============================] - 2s 5ms/step - loss: 0.5243 - accuracy: 0.8146 - val_loss: 0.4493 - val_accuracy: 0.8370\n",
            "Epoch 10/80\n",
            "400/400 [==============================] - 2s 5ms/step - loss: 0.5087 - accuracy: 0.8208 - val_loss: 0.4400 - val_accuracy: 0.8399\n",
            "Epoch 11/80\n",
            "400/400 [==============================] - 2s 5ms/step - loss: 0.4916 - accuracy: 0.8257 - val_loss: 0.4265 - val_accuracy: 0.8441\n",
            "Epoch 12/80\n",
            "400/400 [==============================] - 2s 5ms/step - loss: 0.4782 - accuracy: 0.8316 - val_loss: 0.4226 - val_accuracy: 0.8457\n",
            "Epoch 13/80\n",
            "400/400 [==============================] - 2s 5ms/step - loss: 0.4674 - accuracy: 0.8336 - val_loss: 0.4163 - val_accuracy: 0.8495\n",
            "Epoch 14/80\n",
            "400/400 [==============================] - 2s 5ms/step - loss: 0.4591 - accuracy: 0.8378 - val_loss: 0.4042 - val_accuracy: 0.8521\n",
            "Epoch 15/80\n",
            "400/400 [==============================] - 2s 5ms/step - loss: 0.4479 - accuracy: 0.8416 - val_loss: 0.3985 - val_accuracy: 0.8531\n",
            "Epoch 16/80\n",
            "400/400 [==============================] - 2s 5ms/step - loss: 0.4403 - accuracy: 0.8442 - val_loss: 0.3948 - val_accuracy: 0.8577\n",
            "Epoch 17/80\n",
            "400/400 [==============================] - 2s 5ms/step - loss: 0.4309 - accuracy: 0.8468 - val_loss: 0.3900 - val_accuracy: 0.8583\n",
            "Epoch 18/80\n",
            "400/400 [==============================] - 2s 5ms/step - loss: 0.4239 - accuracy: 0.8490 - val_loss: 0.3869 - val_accuracy: 0.8593\n",
            "Epoch 19/80\n",
            "400/400 [==============================] - 2s 5ms/step - loss: 0.4202 - accuracy: 0.8495 - val_loss: 0.3795 - val_accuracy: 0.8615\n",
            "Epoch 20/80\n",
            "400/400 [==============================] - 2s 5ms/step - loss: 0.4164 - accuracy: 0.8517 - val_loss: 0.3778 - val_accuracy: 0.8636\n",
            "Epoch 21/80\n",
            "400/400 [==============================] - 2s 5ms/step - loss: 0.4061 - accuracy: 0.8548 - val_loss: 0.3741 - val_accuracy: 0.8635\n",
            "Epoch 22/80\n",
            "400/400 [==============================] - 2s 5ms/step - loss: 0.4064 - accuracy: 0.8549 - val_loss: 0.3725 - val_accuracy: 0.8635\n",
            "Epoch 23/80\n",
            "400/400 [==============================] - 2s 5ms/step - loss: 0.3977 - accuracy: 0.8580 - val_loss: 0.3686 - val_accuracy: 0.8676\n",
            "Epoch 24/80\n",
            "400/400 [==============================] - 2s 5ms/step - loss: 0.3913 - accuracy: 0.8600 - val_loss: 0.3663 - val_accuracy: 0.8677\n",
            "Epoch 25/80\n",
            "400/400 [==============================] - 2s 5ms/step - loss: 0.3876 - accuracy: 0.8619 - val_loss: 0.3658 - val_accuracy: 0.8681\n",
            "Epoch 26/80\n",
            "400/400 [==============================] - 2s 5ms/step - loss: 0.3833 - accuracy: 0.8635 - val_loss: 0.3619 - val_accuracy: 0.8698\n",
            "Epoch 27/80\n",
            "400/400 [==============================] - 2s 5ms/step - loss: 0.3788 - accuracy: 0.8654 - val_loss: 0.3541 - val_accuracy: 0.8735\n",
            "Epoch 28/80\n",
            "400/400 [==============================] - 2s 5ms/step - loss: 0.3727 - accuracy: 0.8689 - val_loss: 0.3563 - val_accuracy: 0.8732\n",
            "Epoch 29/80\n",
            "400/400 [==============================] - 2s 5ms/step - loss: 0.3747 - accuracy: 0.8665 - val_loss: 0.3550 - val_accuracy: 0.8728\n",
            "Epoch 30/80\n",
            "400/400 [==============================] - 2s 5ms/step - loss: 0.3688 - accuracy: 0.8673 - val_loss: 0.3472 - val_accuracy: 0.8748\n",
            "Epoch 31/80\n",
            "400/400 [==============================] - 2s 5ms/step - loss: 0.3634 - accuracy: 0.8703 - val_loss: 0.3511 - val_accuracy: 0.8760\n",
            "Epoch 32/80\n",
            "400/400 [==============================] - 2s 5ms/step - loss: 0.3605 - accuracy: 0.8712 - val_loss: 0.3484 - val_accuracy: 0.8752\n",
            "Epoch 33/80\n",
            "400/400 [==============================] - 2s 5ms/step - loss: 0.3572 - accuracy: 0.8724 - val_loss: 0.3430 - val_accuracy: 0.8763\n",
            "Epoch 34/80\n",
            "400/400 [==============================] - 2s 5ms/step - loss: 0.3561 - accuracy: 0.8726 - val_loss: 0.3467 - val_accuracy: 0.8732\n",
            "Epoch 35/80\n",
            "400/400 [==============================] - 2s 5ms/step - loss: 0.3521 - accuracy: 0.8730 - val_loss: 0.3415 - val_accuracy: 0.8788\n",
            "Epoch 36/80\n",
            "400/400 [==============================] - 2s 5ms/step - loss: 0.3470 - accuracy: 0.8765 - val_loss: 0.3372 - val_accuracy: 0.8788\n",
            "Epoch 37/80\n",
            "400/400 [==============================] - 2s 5ms/step - loss: 0.3471 - accuracy: 0.8758 - val_loss: 0.3355 - val_accuracy: 0.8798\n",
            "Epoch 38/80\n",
            "400/400 [==============================] - 2s 5ms/step - loss: 0.3434 - accuracy: 0.8776 - val_loss: 0.3378 - val_accuracy: 0.8786\n",
            "Epoch 39/80\n",
            "400/400 [==============================] - 2s 5ms/step - loss: 0.3395 - accuracy: 0.8785 - val_loss: 0.3335 - val_accuracy: 0.8809\n",
            "Epoch 40/80\n",
            "400/400 [==============================] - 2s 5ms/step - loss: 0.3359 - accuracy: 0.8799 - val_loss: 0.3373 - val_accuracy: 0.8791\n",
            "Epoch 41/80\n",
            "400/400 [==============================] - 2s 5ms/step - loss: 0.3323 - accuracy: 0.8810 - val_loss: 0.3310 - val_accuracy: 0.8808\n",
            "Epoch 42/80\n",
            "400/400 [==============================] - 2s 5ms/step - loss: 0.3276 - accuracy: 0.8832 - val_loss: 0.3299 - val_accuracy: 0.8813\n",
            "Epoch 43/80\n",
            "400/400 [==============================] - 2s 5ms/step - loss: 0.3271 - accuracy: 0.8825 - val_loss: 0.3280 - val_accuracy: 0.8833\n",
            "Epoch 44/80\n",
            "400/400 [==============================] - 2s 5ms/step - loss: 0.3257 - accuracy: 0.8831 - val_loss: 0.3315 - val_accuracy: 0.8824\n",
            "Epoch 45/80\n",
            "400/400 [==============================] - 2s 5ms/step - loss: 0.3242 - accuracy: 0.8827 - val_loss: 0.3269 - val_accuracy: 0.8834\n",
            "Epoch 46/80\n",
            "400/400 [==============================] - 2s 5ms/step - loss: 0.3192 - accuracy: 0.8855 - val_loss: 0.3315 - val_accuracy: 0.8807\n",
            "Epoch 47/80\n",
            "400/400 [==============================] - 2s 5ms/step - loss: 0.3199 - accuracy: 0.8869 - val_loss: 0.3237 - val_accuracy: 0.8859\n",
            "Epoch 48/80\n",
            "400/400 [==============================] - 2s 5ms/step - loss: 0.3158 - accuracy: 0.8878 - val_loss: 0.3261 - val_accuracy: 0.8832\n",
            "Epoch 49/80\n",
            "400/400 [==============================] - 2s 5ms/step - loss: 0.3132 - accuracy: 0.8867 - val_loss: 0.3279 - val_accuracy: 0.8810\n",
            "Epoch 50/80\n",
            "400/400 [==============================] - 2s 5ms/step - loss: 0.3123 - accuracy: 0.8875 - val_loss: 0.3230 - val_accuracy: 0.8858\n",
            "Epoch 51/80\n",
            "400/400 [==============================] - 2s 5ms/step - loss: 0.3100 - accuracy: 0.8886 - val_loss: 0.3205 - val_accuracy: 0.8845\n",
            "Epoch 52/80\n",
            "400/400 [==============================] - 2s 5ms/step - loss: 0.3082 - accuracy: 0.8889 - val_loss: 0.3199 - val_accuracy: 0.8856\n",
            "Epoch 53/80\n",
            "400/400 [==============================] - 2s 5ms/step - loss: 0.3052 - accuracy: 0.8911 - val_loss: 0.3193 - val_accuracy: 0.8883\n",
            "Epoch 54/80\n",
            "400/400 [==============================] - 2s 5ms/step - loss: 0.3032 - accuracy: 0.8917 - val_loss: 0.3166 - val_accuracy: 0.8867\n",
            "Epoch 55/80\n",
            "400/400 [==============================] - 2s 5ms/step - loss: 0.3018 - accuracy: 0.8909 - val_loss: 0.3162 - val_accuracy: 0.8872\n",
            "Epoch 56/80\n",
            "400/400 [==============================] - 2s 5ms/step - loss: 0.2980 - accuracy: 0.8923 - val_loss: 0.3173 - val_accuracy: 0.8861\n",
            "Epoch 57/80\n",
            "400/400 [==============================] - 2s 5ms/step - loss: 0.2959 - accuracy: 0.8934 - val_loss: 0.3161 - val_accuracy: 0.8889\n",
            "Epoch 58/80\n",
            "400/400 [==============================] - 2s 5ms/step - loss: 0.2946 - accuracy: 0.8945 - val_loss: 0.3176 - val_accuracy: 0.8875\n",
            "Epoch 59/80\n",
            "400/400 [==============================] - 2s 5ms/step - loss: 0.2908 - accuracy: 0.8950 - val_loss: 0.3146 - val_accuracy: 0.8880\n",
            "Epoch 60/80\n",
            "400/400 [==============================] - 2s 5ms/step - loss: 0.2900 - accuracy: 0.8952 - val_loss: 0.3131 - val_accuracy: 0.8888\n",
            "Epoch 61/80\n",
            "400/400 [==============================] - 2s 5ms/step - loss: 0.2878 - accuracy: 0.8965 - val_loss: 0.3156 - val_accuracy: 0.8891\n",
            "Epoch 62/80\n",
            "400/400 [==============================] - 2s 5ms/step - loss: 0.2881 - accuracy: 0.8958 - val_loss: 0.3132 - val_accuracy: 0.8880\n",
            "Epoch 63/80\n",
            "400/400 [==============================] - 2s 5ms/step - loss: 0.2858 - accuracy: 0.8959 - val_loss: 0.3129 - val_accuracy: 0.8885\n",
            "Epoch 64/80\n",
            "400/400 [==============================] - 2s 5ms/step - loss: 0.2799 - accuracy: 0.8997 - val_loss: 0.3164 - val_accuracy: 0.8878\n",
            "Epoch 65/80\n",
            "400/400 [==============================] - 2s 5ms/step - loss: 0.2793 - accuracy: 0.8986 - val_loss: 0.3187 - val_accuracy: 0.8885\n",
            "Epoch 66/80\n",
            "400/400 [==============================] - 2s 5ms/step - loss: 0.2780 - accuracy: 0.9001 - val_loss: 0.3134 - val_accuracy: 0.8901\n",
            "Epoch 67/80\n",
            "400/400 [==============================] - 2s 5ms/step - loss: 0.2792 - accuracy: 0.8999 - val_loss: 0.3098 - val_accuracy: 0.8917\n",
            "Epoch 68/80\n",
            "400/400 [==============================] - 2s 5ms/step - loss: 0.2740 - accuracy: 0.9010 - val_loss: 0.3106 - val_accuracy: 0.8888\n",
            "Epoch 69/80\n",
            "400/400 [==============================] - 2s 5ms/step - loss: 0.2731 - accuracy: 0.9016 - val_loss: 0.3096 - val_accuracy: 0.8910\n",
            "Epoch 70/80\n",
            "400/400 [==============================] - 2s 5ms/step - loss: 0.2716 - accuracy: 0.9015 - val_loss: 0.3174 - val_accuracy: 0.8884\n",
            "Epoch 71/80\n",
            "400/400 [==============================] - 2s 5ms/step - loss: 0.2678 - accuracy: 0.9032 - val_loss: 0.3260 - val_accuracy: 0.8858\n",
            "Epoch 72/80\n",
            "400/400 [==============================] - 2s 5ms/step - loss: 0.2675 - accuracy: 0.9023 - val_loss: 0.3112 - val_accuracy: 0.8894\n",
            "Epoch 73/80\n",
            "400/400 [==============================] - 2s 5ms/step - loss: 0.2670 - accuracy: 0.9033 - val_loss: 0.3086 - val_accuracy: 0.8935\n",
            "Epoch 74/80\n",
            "400/400 [==============================] - 2s 5ms/step - loss: 0.2642 - accuracy: 0.9049 - val_loss: 0.3155 - val_accuracy: 0.8862\n",
            "Epoch 75/80\n",
            "400/400 [==============================] - 2s 5ms/step - loss: 0.2619 - accuracy: 0.9061 - val_loss: 0.3085 - val_accuracy: 0.8925\n",
            "Epoch 76/80\n",
            "400/400 [==============================] - 2s 5ms/step - loss: 0.2610 - accuracy: 0.9057 - val_loss: 0.3077 - val_accuracy: 0.8918\n",
            "Epoch 77/80\n",
            "400/400 [==============================] - 2s 5ms/step - loss: 0.2587 - accuracy: 0.9080 - val_loss: 0.3047 - val_accuracy: 0.8921\n",
            "Epoch 78/80\n",
            "400/400 [==============================] - 2s 5ms/step - loss: 0.2573 - accuracy: 0.9067 - val_loss: 0.3062 - val_accuracy: 0.8917\n",
            "Epoch 79/80\n",
            "400/400 [==============================] - 2s 5ms/step - loss: 0.2566 - accuracy: 0.9076 - val_loss: 0.3091 - val_accuracy: 0.8892\n",
            "Epoch 80/80\n",
            "400/400 [==============================] - 2s 5ms/step - loss: 0.2563 - accuracy: 0.9076 - val_loss: 0.3075 - val_accuracy: 0.8923\n"
          ]
        }
      ]
    },
    {
      "cell_type": "code",
      "metadata": {
        "colab": {
          "base_uri": "https://localhost:8080/",
          "height": 591
        },
        "id": "GSfhbRAXOOyY",
        "outputId": "d4d392b9-fded-45aa-e34d-22af9939fbd3"
      },
      "source": [
        "import matplotlib.pyplot as plt\n",
        "%matplotlib inline\n",
        "# list all data in training\n",
        "print(training_2.history.keys())\n",
        "# summarize training for accuracy\n",
        "plt.plot(training_2.history['accuracy'])\n",
        "plt.plot(training_2.history['val_accuracy'])\n",
        "plt.title('model accuracy')\n",
        "plt.ylabel('accuracy')\n",
        "plt.xlabel('epoch')\n",
        "plt.legend(['train', 'test'], loc='upper left')\n",
        "plt.show()\n",
        "# summarize traning for loss\n",
        "plt.plot(training_2.history['loss'])\n",
        "plt.plot(training_2.history['val_loss'])\n",
        "plt.title('model loss')\n",
        "plt.ylabel('loss')\n",
        "plt.xlabel('epoch')\n",
        "plt.legend(['train', 'test'], loc='upper left')\n",
        "plt.show()"
      ],
      "execution_count": null,
      "outputs": [
        {
          "output_type": "stream",
          "name": "stdout",
          "text": [
            "dict_keys(['loss', 'accuracy', 'val_loss', 'val_accuracy'])\n"
          ]
        },
        {
          "output_type": "display_data",
          "data": {
            "image/png": "[encoded data removed]",
            "text/plain": [
              "<Figure size 432x288 with 1 Axes>"
            ]
          },
          "metadata": {
            "needs_background": "light"
          }
        },
        {
          "output_type": "display_data",
          "data": {
            "image/png": "[encoded data removed]",
            "text/plain": [
              "<Figure size 432x288 with 1 Axes>"
            ]
          },
          "metadata": {
            "needs_background": "light"
          }
        }
      ]
    },
    {
      "cell_type": "code",
      "metadata": {
        "colab": {
          "base_uri": "https://localhost:8080/"
        },
        "id": "oHwHOnEfMnph",
        "outputId": "a5504e94-ee92-47f4-c41a-012c8db15ed0"
      },
      "source": [
        "#evaluate the model\n",
        "test_loss, test_acc = model_3.evaluate(X_test, y_test)\n",
        "print('Test accuracy:', round(test_acc,2))\n",
        "print('Test loss:', round(test_loss,2))"
      ],
      "execution_count": null,
      "outputs": [
        {
          "output_type": "stream",
          "name": "stdout",
          "text": [
            "313/313 [==============================] - 1s 4ms/step - loss: 0.3331 - accuracy: 0.8855\n",
            "Test accuracy: 0.89\n",
            "Test loss: 0.33\n"
          ]
        }
      ]
    },
    {
      "cell_type": "code",
      "metadata": {
        "colab": {
          "base_uri": "https://localhost:8080/"
        },
        "id": "i7woe4oCMZn4",
        "outputId": "7408cbdc-0f45-4477-835e-6ad0c1918c2c"
      },
      "source": [
        "model_3.summary()"
      ],
      "execution_count": null,
      "outputs": [
        {
          "output_type": "stream",
          "name": "stdout",
          "text": [
            "Model: \"sequential_3\"\n",
            "_________________________________________________________________\n",
            "Layer (type)                 Output Shape              Param #   \n",
            "=================================================================\n",
            "dense_layer_1 (Dense)        (None, 256)               200960    \n",
            "_________________________________________________________________\n",
            "dropout_15 (Dropout)         (None, 256)               0         \n",
            "_________________________________________________________________\n",
            "dense_layer_2 (Dense)        (None, 256)               65792     \n",
            "_________________________________________________________________\n",
            "dropout_16 (Dropout)         (None, 256)               0         \n",
            "_________________________________________________________________\n",
            "dense_layer_3 (Dense)        (None, 256)               65792     \n",
            "_________________________________________________________________\n",
            "dropout_17 (Dropout)         (None, 256)               0         \n",
            "_________________________________________________________________\n",
            "dense_layer_4 (Dense)        (None, 256)               65792     \n",
            "_________________________________________________________________\n",
            "dropout_18 (Dropout)         (None, 256)               0         \n",
            "_________________________________________________________________\n",
            "dense_layer_5 (Dense)        (None, 10)                2570      \n",
            "=================================================================\n",
            "Total params: 400,906\n",
            "Trainable params: 400,906\n",
            "Non-trainable params: 0\n",
            "_________________________________________________________________\n"
          ]
        }
      ]
    },
    {
      "cell_type": "markdown",
      "metadata": {
        "id": "pUFf8yeLWlmx"
      },
      "source": [
        "### **Model 4(Changing the optimizer to ADAM)**\n",
        "\n"
      ]
    },
    {
      "cell_type": "code",
      "metadata": {
        "id": "QruIKFOxYC4f"
      },
      "source": [
        "model_4 = tf.keras.Sequential()\n",
        "N_hidden = 256\n",
        "# Adds a densely-connected layer with 64 units to the model:\n",
        "model_4.add(Dense(N_hidden, name='dense_layer_1', input_shape=(784,), activation = 'relu'))\n",
        "model_4.add(Dropout(0.2))\n",
        "\n",
        "model_4.add(Dense(N_hidden, name='dense_layer_2', input_shape=(784,), activation = 'relu'))\n",
        "model_4.add(Dropout(0.2))\n",
        "\n",
        "model_4.add(Dense(N_hidden, name='dense_layer_3', input_shape=(784,), activation = 'relu'))\n",
        "model_4.add(Dropout(0.2))\n",
        "\n",
        "model_4.add(Dense(N_hidden, name='dense_layer_4', input_shape=(784,), activation = 'relu'))\n",
        "model_4.add(Dropout(0.2))\n",
        "\n",
        "model_4.add(Dense(N_hidden, name='dense_layer_5', input_shape=(784,), activation = 'relu'))\n",
        "model_4.add(Dropout(0.2))\n",
        "\n",
        "# Add an output layer with 10 output units (10 different classes):\n",
        "model_4.add(Dense(10, name='dense_layer_6', activation = 'softmax'))"
      ],
      "execution_count": null,
      "outputs": []
    },
    {
      "cell_type": "code",
      "metadata": {
        "id": "SdVb5eaLY1mG"
      },
      "source": [
        "# Compiling the model.\n",
        "model_4.compile(optimizer='Adam', \n",
        "              loss='categorical_crossentropy',\n",
        "              metrics=['accuracy'])"
      ],
      "execution_count": null,
      "outputs": []
    },
    {
      "cell_type": "code",
      "metadata": {
        "colab": {
          "base_uri": "https://localhost:8080/"
        },
        "id": "O0ZIuKnnY6Kz",
        "outputId": "56610414-931e-4e4e-b26c-491a8db8020c"
      },
      "source": [
        "# Training the model. \n",
        "training_3 = model_4.fit(X_train, y_train, batch_size=120, epochs=80, validation_split=0.2)"
      ],
      "execution_count": null,
      "outputs": [
        {
          "output_type": "stream",
          "name": "stdout",
          "text": [
            "Epoch 1/80\n",
            "400/400 [==============================] - 3s 6ms/step - loss: 0.6687 - accuracy: 0.7548 - val_loss: 0.4372 - val_accuracy: 0.8406\n",
            "Epoch 2/80\n",
            "400/400 [==============================] - 2s 5ms/step - loss: 0.4479 - accuracy: 0.8377 - val_loss: 0.3996 - val_accuracy: 0.8545\n",
            "Epoch 3/80\n",
            "400/400 [==============================] - 2s 5ms/step - loss: 0.4094 - accuracy: 0.8523 - val_loss: 0.3661 - val_accuracy: 0.8672\n",
            "Epoch 4/80\n",
            "400/400 [==============================] - 2s 5ms/step - loss: 0.3821 - accuracy: 0.8617 - val_loss: 0.3638 - val_accuracy: 0.8694\n",
            "Epoch 5/80\n",
            "400/400 [==============================] - 2s 5ms/step - loss: 0.3625 - accuracy: 0.8681 - val_loss: 0.3565 - val_accuracy: 0.8705\n",
            "Epoch 6/80\n",
            "400/400 [==============================] - 2s 6ms/step - loss: 0.3513 - accuracy: 0.8720 - val_loss: 0.3522 - val_accuracy: 0.8672\n",
            "Epoch 7/80\n",
            "400/400 [==============================] - 2s 6ms/step - loss: 0.3374 - accuracy: 0.8777 - val_loss: 0.3319 - val_accuracy: 0.8788\n",
            "Epoch 8/80\n",
            "400/400 [==============================] - 2s 5ms/step - loss: 0.3280 - accuracy: 0.8820 - val_loss: 0.3452 - val_accuracy: 0.8762\n",
            "Epoch 9/80\n",
            "400/400 [==============================] - 2s 6ms/step - loss: 0.3240 - accuracy: 0.8806 - val_loss: 0.3401 - val_accuracy: 0.8816\n",
            "Epoch 10/80\n",
            "400/400 [==============================] - 2s 5ms/step - loss: 0.3180 - accuracy: 0.8850 - val_loss: 0.3269 - val_accuracy: 0.8818\n",
            "Epoch 11/80\n",
            "400/400 [==============================] - 2s 6ms/step - loss: 0.3098 - accuracy: 0.8876 - val_loss: 0.3414 - val_accuracy: 0.8814\n",
            "Epoch 12/80\n",
            "400/400 [==============================] - 2s 5ms/step - loss: 0.3008 - accuracy: 0.8891 - val_loss: 0.3329 - val_accuracy: 0.8832\n",
            "Epoch 13/80\n",
            "400/400 [==============================] - 2s 6ms/step - loss: 0.2958 - accuracy: 0.8920 - val_loss: 0.3120 - val_accuracy: 0.8872\n",
            "Epoch 14/80\n",
            "400/400 [==============================] - 2s 6ms/step - loss: 0.2897 - accuracy: 0.8944 - val_loss: 0.3323 - val_accuracy: 0.8842\n",
            "Epoch 15/80\n",
            "400/400 [==============================] - 2s 5ms/step - loss: 0.2865 - accuracy: 0.8944 - val_loss: 0.3297 - val_accuracy: 0.8871\n",
            "Epoch 16/80\n",
            "400/400 [==============================] - 2s 6ms/step - loss: 0.2869 - accuracy: 0.8959 - val_loss: 0.3128 - val_accuracy: 0.8886\n",
            "Epoch 17/80\n",
            "400/400 [==============================] - 2s 6ms/step - loss: 0.2809 - accuracy: 0.8967 - val_loss: 0.3214 - val_accuracy: 0.8864\n",
            "Epoch 18/80\n",
            "400/400 [==============================] - 2s 6ms/step - loss: 0.2706 - accuracy: 0.9011 - val_loss: 0.3141 - val_accuracy: 0.8898\n",
            "Epoch 19/80\n",
            "400/400 [==============================] - 2s 6ms/step - loss: 0.2678 - accuracy: 0.9017 - val_loss: 0.3305 - val_accuracy: 0.8893\n",
            "Epoch 20/80\n",
            "400/400 [==============================] - 2s 6ms/step - loss: 0.2652 - accuracy: 0.9011 - val_loss: 0.3279 - val_accuracy: 0.8857\n",
            "Epoch 21/80\n",
            "400/400 [==============================] - 2s 5ms/step - loss: 0.2596 - accuracy: 0.9033 - val_loss: 0.3254 - val_accuracy: 0.8867\n",
            "Epoch 22/80\n",
            "400/400 [==============================] - 2s 6ms/step - loss: 0.2645 - accuracy: 0.9029 - val_loss: 0.3268 - val_accuracy: 0.8909\n",
            "Epoch 23/80\n",
            "400/400 [==============================] - 2s 6ms/step - loss: 0.2540 - accuracy: 0.9070 - val_loss: 0.3137 - val_accuracy: 0.8904\n",
            "Epoch 24/80\n",
            "400/400 [==============================] - 2s 6ms/step - loss: 0.2521 - accuracy: 0.9070 - val_loss: 0.3079 - val_accuracy: 0.8906\n",
            "Epoch 25/80\n",
            "400/400 [==============================] - 2s 5ms/step - loss: 0.2511 - accuracy: 0.9075 - val_loss: 0.3283 - val_accuracy: 0.8904\n",
            "Epoch 26/80\n",
            "400/400 [==============================] - 2s 6ms/step - loss: 0.2512 - accuracy: 0.9076 - val_loss: 0.3501 - val_accuracy: 0.8847\n",
            "Epoch 27/80\n",
            "400/400 [==============================] - 2s 6ms/step - loss: 0.2470 - accuracy: 0.9097 - val_loss: 0.3287 - val_accuracy: 0.8902\n",
            "Epoch 28/80\n",
            "400/400 [==============================] - 2s 6ms/step - loss: 0.2444 - accuracy: 0.9096 - val_loss: 0.3236 - val_accuracy: 0.8954\n",
            "Epoch 29/80\n",
            "400/400 [==============================] - 2s 6ms/step - loss: 0.2411 - accuracy: 0.9107 - val_loss: 0.3060 - val_accuracy: 0.8918\n",
            "Epoch 30/80\n",
            "400/400 [==============================] - 2s 6ms/step - loss: 0.2378 - accuracy: 0.9129 - val_loss: 0.3183 - val_accuracy: 0.8958\n",
            "Epoch 31/80\n",
            "400/400 [==============================] - 2s 6ms/step - loss: 0.2356 - accuracy: 0.9131 - val_loss: 0.3336 - val_accuracy: 0.8940\n",
            "Epoch 32/80\n",
            "400/400 [==============================] - 2s 6ms/step - loss: 0.2331 - accuracy: 0.9151 - val_loss: 0.3279 - val_accuracy: 0.8909\n",
            "Epoch 33/80\n",
            "400/400 [==============================] - 2s 6ms/step - loss: 0.2256 - accuracy: 0.9167 - val_loss: 0.3414 - val_accuracy: 0.8858\n",
            "Epoch 34/80\n",
            "400/400 [==============================] - 2s 6ms/step - loss: 0.2284 - accuracy: 0.9159 - val_loss: 0.3401 - val_accuracy: 0.8898\n",
            "Epoch 35/80\n",
            "400/400 [==============================] - 2s 6ms/step - loss: 0.2329 - accuracy: 0.9136 - val_loss: 0.3187 - val_accuracy: 0.8928\n",
            "Epoch 36/80\n",
            "400/400 [==============================] - 2s 6ms/step - loss: 0.2251 - accuracy: 0.9172 - val_loss: 0.3231 - val_accuracy: 0.8945\n",
            "Epoch 37/80\n",
            "400/400 [==============================] - 2s 6ms/step - loss: 0.2226 - accuracy: 0.9172 - val_loss: 0.3148 - val_accuracy: 0.8971\n",
            "Epoch 38/80\n",
            "400/400 [==============================] - 2s 6ms/step - loss: 0.2182 - accuracy: 0.9209 - val_loss: 0.3282 - val_accuracy: 0.8947\n",
            "Epoch 39/80\n",
            "400/400 [==============================] - 2s 6ms/step - loss: 0.2194 - accuracy: 0.9195 - val_loss: 0.3294 - val_accuracy: 0.8938\n",
            "Epoch 40/80\n",
            "400/400 [==============================] - 2s 6ms/step - loss: 0.2169 - accuracy: 0.9190 - val_loss: 0.3224 - val_accuracy: 0.8935\n",
            "Epoch 41/80\n",
            "400/400 [==============================] - 2s 6ms/step - loss: 0.2129 - accuracy: 0.9222 - val_loss: 0.3314 - val_accuracy: 0.8963\n",
            "Epoch 42/80\n",
            "400/400 [==============================] - 3s 7ms/step - loss: 0.2178 - accuracy: 0.9201 - val_loss: 0.3282 - val_accuracy: 0.8961\n",
            "Epoch 43/80\n",
            "400/400 [==============================] - 2s 6ms/step - loss: 0.2122 - accuracy: 0.9230 - val_loss: 0.3306 - val_accuracy: 0.8938\n",
            "Epoch 44/80\n",
            "400/400 [==============================] - 2s 6ms/step - loss: 0.2100 - accuracy: 0.9219 - val_loss: 0.3454 - val_accuracy: 0.8892\n",
            "Epoch 45/80\n",
            "400/400 [==============================] - 2s 6ms/step - loss: 0.2072 - accuracy: 0.9230 - val_loss: 0.3145 - val_accuracy: 0.8938\n",
            "Epoch 46/80\n",
            "400/400 [==============================] - 2s 6ms/step - loss: 0.2073 - accuracy: 0.9234 - val_loss: 0.3311 - val_accuracy: 0.8982\n",
            "Epoch 47/80\n",
            "400/400 [==============================] - 2s 6ms/step - loss: 0.2087 - accuracy: 0.9232 - val_loss: 0.3247 - val_accuracy: 0.8971\n",
            "Epoch 48/80\n",
            "400/400 [==============================] - 2s 6ms/step - loss: 0.2036 - accuracy: 0.9244 - val_loss: 0.3299 - val_accuracy: 0.8892\n",
            "Epoch 49/80\n",
            "400/400 [==============================] - 2s 6ms/step - loss: 0.2028 - accuracy: 0.9247 - val_loss: 0.3251 - val_accuracy: 0.8970\n",
            "Epoch 50/80\n",
            "400/400 [==============================] - 2s 6ms/step - loss: 0.2017 - accuracy: 0.9254 - val_loss: 0.3286 - val_accuracy: 0.8958\n",
            "Epoch 51/80\n",
            "400/400 [==============================] - 2s 6ms/step - loss: 0.1977 - accuracy: 0.9280 - val_loss: 0.3536 - val_accuracy: 0.8935\n",
            "Epoch 52/80\n",
            "400/400 [==============================] - 2s 6ms/step - loss: 0.2020 - accuracy: 0.9260 - val_loss: 0.3270 - val_accuracy: 0.8972\n",
            "Epoch 53/80\n",
            "400/400 [==============================] - 2s 6ms/step - loss: 0.1966 - accuracy: 0.9280 - val_loss: 0.3382 - val_accuracy: 0.8968\n",
            "Epoch 54/80\n",
            "400/400 [==============================] - 2s 6ms/step - loss: 0.2012 - accuracy: 0.9261 - val_loss: 0.3376 - val_accuracy: 0.8972\n",
            "Epoch 55/80\n",
            "400/400 [==============================] - 2s 6ms/step - loss: 0.2002 - accuracy: 0.9264 - val_loss: 0.3383 - val_accuracy: 0.8923\n",
            "Epoch 56/80\n",
            "400/400 [==============================] - 2s 6ms/step - loss: 0.1937 - accuracy: 0.9291 - val_loss: 0.3428 - val_accuracy: 0.8938\n",
            "Epoch 57/80\n",
            "400/400 [==============================] - 2s 6ms/step - loss: 0.1951 - accuracy: 0.9295 - val_loss: 0.3336 - val_accuracy: 0.8967\n",
            "Epoch 58/80\n",
            "400/400 [==============================] - 2s 6ms/step - loss: 0.1906 - accuracy: 0.9295 - val_loss: 0.3406 - val_accuracy: 0.8930\n",
            "Epoch 59/80\n",
            "400/400 [==============================] - 2s 6ms/step - loss: 0.1912 - accuracy: 0.9306 - val_loss: 0.3476 - val_accuracy: 0.9015\n",
            "Epoch 60/80\n",
            "400/400 [==============================] - 2s 6ms/step - loss: 0.1908 - accuracy: 0.9308 - val_loss: 0.3297 - val_accuracy: 0.8937\n",
            "Epoch 61/80\n",
            "400/400 [==============================] - 2s 6ms/step - loss: 0.1876 - accuracy: 0.9306 - val_loss: 0.3504 - val_accuracy: 0.8909\n",
            "Epoch 62/80\n",
            "400/400 [==============================] - 2s 6ms/step - loss: 0.1879 - accuracy: 0.9323 - val_loss: 0.3460 - val_accuracy: 0.8974\n",
            "Epoch 63/80\n",
            "400/400 [==============================] - 2s 6ms/step - loss: 0.1855 - accuracy: 0.9330 - val_loss: 0.3426 - val_accuracy: 0.8949\n",
            "Epoch 64/80\n",
            "400/400 [==============================] - 2s 6ms/step - loss: 0.1832 - accuracy: 0.9327 - val_loss: 0.3352 - val_accuracy: 0.9003\n",
            "Epoch 65/80\n",
            "400/400 [==============================] - 2s 6ms/step - loss: 0.1853 - accuracy: 0.9316 - val_loss: 0.3352 - val_accuracy: 0.8977\n",
            "Epoch 66/80\n",
            "400/400 [==============================] - 2s 6ms/step - loss: 0.1844 - accuracy: 0.9328 - val_loss: 0.3439 - val_accuracy: 0.8989\n",
            "Epoch 67/80\n",
            "400/400 [==============================] - 2s 6ms/step - loss: 0.1817 - accuracy: 0.9332 - val_loss: 0.3501 - val_accuracy: 0.8960\n",
            "Epoch 68/80\n",
            "400/400 [==============================] - 2s 6ms/step - loss: 0.1809 - accuracy: 0.9319 - val_loss: 0.3197 - val_accuracy: 0.9005\n",
            "Epoch 69/80\n",
            "400/400 [==============================] - 2s 6ms/step - loss: 0.1792 - accuracy: 0.9342 - val_loss: 0.3391 - val_accuracy: 0.8988\n",
            "Epoch 70/80\n",
            "400/400 [==============================] - 2s 6ms/step - loss: 0.1769 - accuracy: 0.9334 - val_loss: 0.3542 - val_accuracy: 0.8963\n",
            "Epoch 71/80\n",
            "400/400 [==============================] - 2s 6ms/step - loss: 0.1810 - accuracy: 0.9348 - val_loss: 0.3410 - val_accuracy: 0.8951\n",
            "Epoch 72/80\n",
            "400/400 [==============================] - 2s 6ms/step - loss: 0.1730 - accuracy: 0.9360 - val_loss: 0.3586 - val_accuracy: 0.8980\n",
            "Epoch 73/80\n",
            "400/400 [==============================] - 2s 6ms/step - loss: 0.1780 - accuracy: 0.9343 - val_loss: 0.3516 - val_accuracy: 0.8988\n",
            "Epoch 74/80\n",
            "400/400 [==============================] - 2s 6ms/step - loss: 0.1755 - accuracy: 0.9345 - val_loss: 0.3470 - val_accuracy: 0.8959\n",
            "Epoch 75/80\n",
            "400/400 [==============================] - 2s 6ms/step - loss: 0.1729 - accuracy: 0.9375 - val_loss: 0.3543 - val_accuracy: 0.8953\n",
            "Epoch 76/80\n",
            "400/400 [==============================] - 2s 6ms/step - loss: 0.1765 - accuracy: 0.9347 - val_loss: 0.3461 - val_accuracy: 0.8976\n",
            "Epoch 77/80\n",
            "400/400 [==============================] - 2s 6ms/step - loss: 0.1767 - accuracy: 0.9360 - val_loss: 0.3418 - val_accuracy: 0.8988\n",
            "Epoch 78/80\n",
            "400/400 [==============================] - 2s 6ms/step - loss: 0.1718 - accuracy: 0.9371 - val_loss: 0.3552 - val_accuracy: 0.8980\n",
            "Epoch 79/80\n",
            "400/400 [==============================] - 2s 6ms/step - loss: 0.1710 - accuracy: 0.9366 - val_loss: 0.3787 - val_accuracy: 0.9004\n",
            "Epoch 80/80\n",
            "400/400 [==============================] - 2s 6ms/step - loss: 0.1693 - accuracy: 0.9380 - val_loss: 0.3498 - val_accuracy: 0.8988\n"
          ]
        }
      ]
    },
    {
      "cell_type": "code",
      "metadata": {
        "colab": {
          "base_uri": "https://localhost:8080/",
          "height": 591
        },
        "id": "wi-64N_FZEzt",
        "outputId": "9c4b44b1-243a-4567-f548-fd40ab2ae1fe"
      },
      "source": [
        "import matplotlib.pyplot as plt\n",
        "%matplotlib inline\n",
        "# list all data in training\n",
        "print(training_3.history.keys())\n",
        "# summarize training for accuracy\n",
        "plt.plot(training_3.history['accuracy'])\n",
        "plt.plot(training_3.history['val_accuracy'])\n",
        "plt.title('model accuracy')\n",
        "plt.ylabel('accuracy')\n",
        "plt.xlabel('epoch')\n",
        "plt.legend(['train', 'test'], loc='upper left')\n",
        "plt.show()\n",
        "# summarize traning for loss\n",
        "plt.plot(training_3.history['loss'])\n",
        "plt.plot(training_3.history['val_loss'])\n",
        "plt.title('model loss')\n",
        "plt.ylabel('loss')\n",
        "plt.xlabel('epoch')\n",
        "plt.legend(['train', 'test'], loc='upper left')\n",
        "plt.show()"
      ],
      "execution_count": null,
      "outputs": [
        {
          "output_type": "stream",
          "name": "stdout",
          "text": [
            "dict_keys(['loss', 'accuracy', 'val_loss', 'val_accuracy'])\n"
          ]
        },
        {
          "output_type": "display_data",
          "data": {
            "image/png": "[encoded data removed]",
            "text/plain": [
              "<Figure size 432x288 with 1 Axes>"
            ]
          },
          "metadata": {
            "needs_background": "light"
          }
        },
        {
          "output_type": "display_data",
          "data": {
            "image/png": "[encoded data removed]",
            "text/plain": [
              "<Figure size 432x288 with 1 Axes>"
            ]
          },
          "metadata": {
            "needs_background": "light"
          }
        }
      ]
    },
    {
      "cell_type": "code",
      "metadata": {
        "colab": {
          "base_uri": "https://localhost:8080/"
        },
        "id": "SRfhEIaRZJT_",
        "outputId": "693cd064-d38e-4f52-af95-4fba7be33939"
      },
      "source": [
        "#evaluate the model\n",
        "test_loss, test_acc = model_4.evaluate(X_test, y_test)\n",
        "print('Test accuracy:', round(test_acc,2))\n",
        "print('Test loss:', round(test_loss,2))"
      ],
      "execution_count": null,
      "outputs": [
        {
          "output_type": "stream",
          "name": "stdout",
          "text": [
            "313/313 [==============================] - 1s 4ms/step - loss: 0.3832 - accuracy: 0.8921\n",
            "Test accuracy: 0.89\n",
            "Test loss: 0.38\n"
          ]
        }
      ]
    },
    {
      "cell_type": "code",
      "metadata": {
        "id": "KPTreYSEZRcE",
        "colab": {
          "base_uri": "https://localhost:8080/"
        },
        "outputId": "cc128941-7bd8-4ce5-d9c3-e29a9a846afb"
      },
      "source": [
        "model_4.summary()"
      ],
      "execution_count": null,
      "outputs": [
        {
          "output_type": "stream",
          "name": "stdout",
          "text": [
            "Model: \"sequential_2\"\n",
            "_________________________________________________________________\n",
            "Layer (type)                 Output Shape              Param #   \n",
            "=================================================================\n",
            "dense_layer_1 (Dense)        (None, 256)               200960    \n",
            "_________________________________________________________________\n",
            "dropout_10 (Dropout)         (None, 256)               0         \n",
            "_________________________________________________________________\n",
            "dense_layer_2 (Dense)        (None, 256)               65792     \n",
            "_________________________________________________________________\n",
            "dropout_11 (Dropout)         (None, 256)               0         \n",
            "_________________________________________________________________\n",
            "dense_layer_3 (Dense)        (None, 256)               65792     \n",
            "_________________________________________________________________\n",
            "dropout_12 (Dropout)         (None, 256)               0         \n",
            "_________________________________________________________________\n",
            "dense_layer_4 (Dense)        (None, 256)               65792     \n",
            "_________________________________________________________________\n",
            "dropout_13 (Dropout)         (None, 256)               0         \n",
            "_________________________________________________________________\n",
            "dense_layer_5 (Dense)        (None, 256)               65792     \n",
            "_________________________________________________________________\n",
            "dropout_14 (Dropout)         (None, 256)               0         \n",
            "_________________________________________________________________\n",
            "dense_layer_6 (Dense)        (None, 10)                2570      \n",
            "=================================================================\n",
            "Total params: 466,698\n",
            "Trainable params: 466,698\n",
            "Non-trainable params: 0\n",
            "_________________________________________________________________\n"
          ]
        }
      ]
    },
    {
      "cell_type": "markdown",
      "metadata": {
        "id": "dkHAhfaXB_Fv"
      },
      "source": [
        "## The best parameters for the project is"
      ]
    },
    {
      "cell_type": "code",
      "source": [
        "Hidden neurons = 256\n",
        "Dropout = 0.2\n",
        "Activation = Relu\n",
        "Dense_layer = 5\n",
        "optimizer = SGD\n",
        "batch_Size = 120\n",
        "Epoch = 80\n",
        "validation_split = 0.2"
      ],
      "metadata": {
        "id": "6sJqn0dppj7X"
      },
      "execution_count": null,
      "outputs": []
    },
    {
      "cell_type": "markdown",
      "source": [
        ""
      ],
      "metadata": {
        "id": "mIiZyOtbpnjm"
      }
    }
  ]
}